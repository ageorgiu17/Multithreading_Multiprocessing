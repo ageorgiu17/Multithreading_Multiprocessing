{
 "cells": [
  {
   "cell_type": "markdown",
   "id": "6d91e2ae",
   "metadata": {},
   "source": [
    "În acest tutorial o să învățîm cum să rulăm cod simultan utilizând partea de 'threading module'"
   ]
  },
  {
   "cell_type": "markdown",
   "id": "5bf99f28",
   "metadata": {},
   "source": [
    "De ce să utilizăm modulul de Threading? Acest modul se utilizează când dorim să ne îmbunătățim viteza de rulare a codului într-un mod vizibil. Acestă îmbunătățire provine din rularea anumitor task-uri (metode, funcții) simultan. Acestă îmbunătățire nu este neapărat garantată, depinde foarte mult de ce anume se realizează în codul respectiv."
   ]
  },
  {
   "cell_type": "markdown",
   "id": "1b28a3a3",
   "metadata": {},
   "source": [
    "O să începem prin a utiliza modulul 'time' pentru a utiliza partea de 'sleep'. În acest fel o să ne dăm seama cum anume funcționează partea de rulare de cod simnultan utilizând 'multithreading', iar la final o să creem și un program care utilizează aceste noțiuni pentru a descărca imagini de mare rezoluție de pe internet"
   ]
  },
  {
   "cell_type": "code",
   "execution_count": 1,
   "id": "8562eb0c",
   "metadata": {},
   "outputs": [
    {
     "name": "stdout",
     "output_type": "stream",
     "text": [
      "Sleeping for 1 second....\n",
      "Done sleeping...\n",
      "FInished in 1.0 second(s)\n"
     ]
    }
   ],
   "source": [
    "import time\n",
    "\n",
    "start = time.perf_counter()\n",
    "\n",
    "def do_something():\n",
    "    print('Sleeping for 1 second....')\n",
    "    time.sleep(1)\n",
    "    print('Done sleeping...')\n",
    "    \n",
    "do_something()\n",
    "\n",
    "finish = time.perf_counter()\n",
    "\n",
    "print(f'FInished in {round(finish-start, 2)} second(s)')\n"
   ]
  },
  {
   "cell_type": "markdown",
   "id": "aefc7696",
   "metadata": {},
   "source": [
    "În cadrul codului de mai sus am importat modulul 'time'. Funcția 'do_something()' ne afișează că programul nostru o să doarmă pentru 1 secundă, după care o să afișeze că această așteptare s-a terminat. La final, se afișează în cât timp s-a rulat codul"
   ]
  },
  {
   "cell_type": "markdown",
   "id": "fa1ad913",
   "metadata": {},
   "source": [
    "În outputul rulării codului se poate observa în momentul în care se apelează funcția 'do_something()' că se printează prima parte (Sleeping for 1 second....) după care se așteaptă timp de 1 secundă, apoi se afișează 'Done sleeping...'"
   ]
  },
  {
   "cell_type": "markdown",
   "id": "7adb25dc",
   "metadata": {},
   "source": [
    "La final ni se spune că scriptul a rulat în 1 secundă (cât timp s-a specificat în cadrul metodei 'time.sleep()')"
   ]
  },
  {
   "cell_type": "markdown",
   "id": "a7f71e01",
   "metadata": {},
   "source": [
    "În situtația în care se apelează funcția 'do_something()' de 2 ori, atunci programul nostru o să mai aștepte încă 1 secundă în plus. De fiecare dată când se apelează funcția respectivă, timpul de rulare al scriptului se lungește cu 1 secundă."
   ]
  },
  {
   "cell_type": "code",
   "execution_count": 2,
   "id": "ea1a33e4",
   "metadata": {},
   "outputs": [
    {
     "name": "stdout",
     "output_type": "stream",
     "text": [
      "Sleeping for 1 second....\n",
      "Done sleeping...\n",
      "Sleeping for 1 second....\n",
      "Done sleeping...\n",
      "FInished in 2.0 second(s)\n"
     ]
    }
   ],
   "source": [
    "import time\n",
    "\n",
    "start = time.perf_counter()\n",
    "\n",
    "def do_something():\n",
    "    print('Sleeping for 1 second....')\n",
    "    time.sleep(1)\n",
    "    print('Done sleeping...')\n",
    "    \n",
    "do_something()\n",
    "do_something()\n",
    "\n",
    "finish = time.perf_counter()\n",
    "\n",
    "print(f'FInished in {round(finish-start, 2)} second(s)')\n"
   ]
  },
  {
   "cell_type": "markdown",
   "id": "797649b9",
   "metadata": {},
   "source": [
    "După cum se observă, s-a mai adăugat o secundă la timpul total al programului, însă acestă secundă este doar de așteptare, prgramul nu realizează nimic. Acesta ar fi un bun indiciu de rulare de cod simultan. Există 2 categorii:\n",
    "\n",
    "    1. CPU bounds = acestea utilizează foarte multe numere și foarte mult din CPU\n",
    "    \n",
    "    2. I/O bounds = lucruri care doar așteaptă operațiuni de input și output să fie terminate și nu utilizează CPU-ul (citirea și scrierea în fișiere, descărcarea de date din online)"
   ]
  },
  {
   "cell_type": "markdown",
   "id": "d4f41d73",
   "metadata": {},
   "source": [
    "În ceea ce privește partea de threading, o să se utilizeze acest concept pentru partea de I/O bounds, când o să avem mult de așteptat pentru operații de input sau output."
   ]
  },
  {
   "cell_type": "markdown",
   "id": "73eeb987",
   "metadata": {},
   "source": [
    "În situația în care codul utilizează mult CPU, atunci partea de Threading nu ne este de folos, ba mai mult, acest procedeu de multe ori o să îngreuneze programul. Pentru partea în care se utilizează mult CPU, atunci este recomandat să se utilizeze conceptul de 'multiprocessing' și să se ruleze cod în paralel"
   ]
  },
  {
   "cell_type": "markdown",
   "id": "4bf9c2eb",
   "metadata": {},
   "source": [
    "Multithreading = rulearea codului simultan\n",
    "\n",
    "Multiprocessing = rularea codului în paralel"
   ]
  },
  {
   "cell_type": "markdown",
   "id": "a7759874",
   "metadata": {},
   "source": [
    "Când se utilizează 'multithreading' de fapt nu se rulează cod în paralel, doar ne oferă iluza că acest cod este rulat în paralel"
   ]
  },
  {
   "cell_type": "markdown",
   "id": "84552d55",
   "metadata": {},
   "source": [
    "În continuare o să modificăm scriptul pentru a utiliza thread-uri. Pentru acesta o să importăm modulul 'threading' (este bulit-in în Python, nu este nevoie de instalare)."
   ]
  },
  {
   "cell_type": "markdown",
   "id": "8392b580",
   "metadata": {},
   "source": [
    "Pentru început o să utilizăm o metodă veche pentru a înțelege mai bine ce anume se întâmplă în momentul în care se utilizează thread-uri, iar apoi o să trecem și la o metodă mai nouă."
   ]
  },
  {
   "cell_type": "markdown",
   "id": "f3321e59",
   "metadata": {},
   "source": [
    "În loc să rulăm funcția 'do_something()' 2 de ori, o să creem 2 thread-uri pentru acestă funcție."
   ]
  },
  {
   "cell_type": "code",
   "execution_count": 4,
   "id": "732c7cff",
   "metadata": {},
   "outputs": [],
   "source": [
    "import threading\n",
    "\n",
    "t1 = threading.Thread(target=do_something)\n"
   ]
  },
  {
   "cell_type": "markdown",
   "id": "013076bf",
   "metadata": {},
   "source": [
    "În codul de mai sus am creat un Thread pentru funcția 'do_something()'. Din modulul 'threading' am apelat metoda Thread. Acesteia trebuie să îi oferim ca și parametru un tagert, iar acest target reprezintă funcția care dorim să ruleze. De observat însă faptul că acestă funcție se trece ca și argument simplu, nu se apelează"
   ]
  },
  {
   "cell_type": "markdown",
   "id": "ac102960",
   "metadata": {},
   "source": [
    "După cum spuneam, este necesar să creem 2 thread-uri, fiecare dintre acesta să aibă ca și target funcția 'do_something()'"
   ]
  },
  {
   "cell_type": "code",
   "execution_count": 5,
   "id": "1734ced0",
   "metadata": {},
   "outputs": [],
   "source": [
    "t1 = threading.Thread(target=do_something)\n",
    "t2 = threading.Thread(target=do_something)\n"
   ]
  },
  {
   "cell_type": "markdown",
   "id": "0e08dd2d",
   "metadata": {},
   "source": [
    "În acest moment am creat cele 2 obiecte thread, însă codul nu o să ruleze simultan încă. Dacă rulăm codul așa cum este acuma, codul o să se termine imediat deoarece funțiile respective nu sunt rulate deloc"
   ]
  },
  {
   "cell_type": "code",
   "execution_count": 7,
   "id": "7f68a9d8",
   "metadata": {},
   "outputs": [
    {
     "name": "stdout",
     "output_type": "stream",
     "text": [
      "Finished in 0.0 second(s)\n"
     ]
    }
   ],
   "source": [
    "import threading\n",
    "import time\n",
    "\n",
    "start = time.perf_counter()\n",
    "\n",
    "def do_something():\n",
    "    print('Sleeping for 1 second....')\n",
    "    time.sleep(1)\n",
    "    print('Done sleeping...')\n",
    "    \n",
    "    \n",
    "t1 = threading.Thread(target=do_something)\n",
    "t2 = threading.Thread(target=do_something)\n",
    "\n",
    "finish = time.perf_counter()\n",
    "\n",
    "print(f'Finished in {round(finish-start, 2)} second(s)')\n"
   ]
  },
  {
   "cell_type": "markdown",
   "id": "441d97de",
   "metadata": {},
   "source": [
    "După cum se observă în outputul din codul de mai sus, programul a rulat în 0 (zero) secunde. Pentru a rula funcția trecută ca și argument pentru target din cadrul thread-ului, trebuie să pornim aceste thread-uri. Pentru a le porni se utilizează metoda '.start()'. Aceste modificări s-ar putea să nu ne ofere rezultatul la care ne-am așteptat"
   ]
  },
  {
   "cell_type": "code",
   "execution_count": 10,
   "id": "35552e48",
   "metadata": {},
   "outputs": [
    {
     "name": "stdout",
     "output_type": "stream",
     "text": [
      "Sleeping for 1 second....\n",
      "Sleeping for 1 second....\n",
      "Finished in 0.0 second(s)\n",
      "Done sleeping...\n",
      "Done sleeping...\n"
     ]
    }
   ],
   "source": [
    "import threading\n",
    "import time\n",
    "\n",
    "start = time.perf_counter()\n",
    "\n",
    "def do_something():\n",
    "    print('Sleeping for 1 second....')\n",
    "    time.sleep(1)\n",
    "    print('Done sleeping...')\n",
    "    \n",
    "    \n",
    "t1 = threading.Thread(target=do_something)\n",
    "t2 = threading.Thread(target=do_something)\n",
    "\n",
    "t1.start()\n",
    "t2.start()\n",
    "\n",
    "finish = time.perf_counter()\n",
    "\n",
    "print(f'Finished in {round(finish-start, 2)} second(s)')\n"
   ]
  },
  {
   "cell_type": "markdown",
   "id": "ac5eb730",
   "metadata": {},
   "source": [
    "În cadrul outputului codului de mai sus, acum se poate observa că funcția a fost rulată. Se printează de 2 ori (pentru că sunt 2 tread-uri, adică se apelează funcția 'do_something()' de 2 ori) partea de 'Sleeping for 1 second....' (odată pentru fiecare thread), iar după se afișează că tot programul s-a rulat în 0 (zero) secunde, deși codul a avut nevoie de aproximativ 1 secundă pentru a rula"
   ]
  },
  {
   "cell_type": "markdown",
   "id": "bde036b6",
   "metadata": {},
   "source": [
    "Motivul pentru care ne zice că programul a rulat în 0 (zero) secunde este pentru că a pornit ambele thread-uri, iar în timp ce acele thread-uri așteptaul pentru 1 secundă (time.sleep(1)), scriptul nostru a rulat simultan și a continuat cu restul codului din script și imediat a mers la partea în care se calculează în cât timp s-a rulat codul."
   ]
  },
  {
   "cell_type": "markdown",
   "id": "f591966c",
   "metadata": {},
   "source": [
    "Pentru ca thread-urile să ruleze, iar abia după să calculeze în cât timp s-a rulat codul, trebuie să utilizăm metod '.join()'. Această metotă se asigură că funcția din cadrul thread-urilor este rulată, iar abia apoi se trece la partea în care se calculează timpul total de execuție al scriptului. Metoda '.join()' se apelează pentru fiecare thread în parte și se trece după ce acestea au fost pornite ('.start()')"
   ]
  },
  {
   "cell_type": "code",
   "execution_count": 11,
   "id": "b51f4345",
   "metadata": {},
   "outputs": [
    {
     "name": "stdout",
     "output_type": "stream",
     "text": [
      "Sleeping for 1 second....\n",
      "Sleeping for 1 second....\n",
      "Done sleeping...\n",
      "Done sleeping...\n",
      "Finished in 1.01 second(s)\n"
     ]
    }
   ],
   "source": [
    "import threading\n",
    "import time\n",
    "\n",
    "start = time.perf_counter()\n",
    "\n",
    "def do_something():\n",
    "    print('Sleeping for 1 second....')\n",
    "    time.sleep(1)\n",
    "    print('Done sleeping...')\n",
    "    \n",
    "    \n",
    "t1 = threading.Thread(target=do_something)\n",
    "t2 = threading.Thread(target=do_something)\n",
    "\n",
    "t1.start()\n",
    "t2.start()\n",
    "\n",
    "t1.join()\n",
    "t2.join()\n",
    "\n",
    "finish = time.perf_counter()\n",
    "\n",
    "print(f'Finished in {round(finish-start, 2)} second(s)')\n"
   ]
  },
  {
   "cell_type": "markdown",
   "id": "95ce5fed",
   "metadata": {},
   "source": [
    "În momentul de față, îmbunătățirea vitezei nu este una foarte vizibilă. Fără a crea thread-uri, scriptul rula în 2 secunde, iar în acest moment rulează în 1 secundă (cu thread-uri), însă acest lucru se întâmplă deoarece în cadrul funcției 'do_something()' se așteaptă doar 1 secundă, iar funcția este apelată de 2 ori. Dacă se dorește să se apeleze acestă funcție de 10 ori fără a se utiliza thread-uri, atunci programul o să ruleze în 10 secunde. În cazul în care însă se utilizează thread-uri pentru toate cele 10 apelări a funcției, codul o să ruleze tot în aproximativ 1 secundă."
   ]
  },
  {
   "cell_type": "markdown",
   "id": "bb1baa16",
   "metadata": {},
   "source": [
    "Decât să creem manual aceste thread-uri (10 la număr), o să creem aceste thread-uri și o să le pornim în cadrul unei bucle."
   ]
  },
  {
   "cell_type": "code",
   "execution_count": 12,
   "id": "3fd1fe12",
   "metadata": {},
   "outputs": [
    {
     "name": "stdout",
     "output_type": "stream",
     "text": [
      "Sleeping for 1 second....\n",
      "Done sleeping...\n",
      "Sleeping for 1 second....\n",
      "Done sleeping...\n",
      "Sleeping for 1 second....\n",
      "Done sleeping...\n",
      "Sleeping for 1 second....\n",
      "Done sleeping...\n",
      "Sleeping for 1 second....\n",
      "Done sleeping...\n",
      "Sleeping for 1 second....\n",
      "Done sleeping...\n",
      "Sleeping for 1 second....\n",
      "Done sleeping...\n",
      "Sleeping for 1 second....\n",
      "Done sleeping...\n",
      "Sleeping for 1 second....\n",
      "Done sleeping...\n",
      "Sleeping for 1 second....\n",
      "Done sleeping...\n",
      "Finished in 10.03 second(s)\n"
     ]
    }
   ],
   "source": [
    "import threading\n",
    "import time \n",
    "\n",
    "start = time.perf_counter()\n",
    "\n",
    "def do_something():\n",
    "    print('Sleeping for 1 second....')\n",
    "    time.sleep(1)\n",
    "    print('Done sleeping...')\n",
    "    \n",
    "    \n",
    "for _ in range(10):\n",
    "    \n",
    "    t = threading.Thread(target=do_something())\n",
    "    t.start()\n",
    "    \n",
    "\n",
    "finish = time.perf_counter()\n",
    "\n",
    "print(f'Finished in {round(finish-start, 2)} second(s)')\n"
   ]
  },
  {
   "cell_type": "markdown",
   "id": "7737cc72",
   "metadata": {},
   "source": [
    "În acest moment avem bucla necesară, iar thread-urile noastre sunt pornite, însă nu putem realiza și partea de join ('t.join()') în cadrul buclei respective  deoarece o să facă join pe un thread înainte de a parcurge, a crea și a porni următorul thread, prin urmare este la fel ca și rularea codului fără a utiliza thread-uri (după cum se poate observa și în output)"
   ]
  },
  {
   "cell_type": "markdown",
   "id": "709af126",
   "metadata": {},
   "source": [
    "Trebuie să găsim o modalitate să pornim toate aceste thread-uri, apoi să parcurgem iar aceste thread-uri încă odată pentru a le face join la toate. Putem să adăugăm fiecare thread pe care l-am creat și l-am pornit la o listă de thred-uri, după care să parcurgem lista respectivă și să apelăm metoda '.join()' pentru fiecare thread creat din listă"
   ]
  },
  {
   "cell_type": "code",
   "execution_count": 15,
   "id": "195de29d",
   "metadata": {},
   "outputs": [
    {
     "name": "stdout",
     "output_type": "stream",
     "text": [
      "Sleeping for 1 second....\n",
      "Sleeping for 1 second....\n",
      "Sleeping for 1 second....\n",
      "Sleeping for 1 second....\n",
      "Sleeping for 1 second....\n",
      "Sleeping for 1 second....\n",
      "Sleeping for 1 second....\n",
      "Sleeping for 1 second....\n",
      "Sleeping for 1 second....\n",
      "Sleeping for 1 second....\n",
      "Done sleeping...\n",
      "Done sleeping...\n",
      "Done sleeping...\n",
      "Done sleeping...\n",
      "Done sleeping...\n",
      "Done sleeping...\n",
      "Done sleeping...\n",
      "Done sleeping...\n",
      "Done sleeping...\n",
      "Done sleeping...\n",
      "Finished in 1.02 second(s)\n"
     ]
    }
   ],
   "source": [
    "import threading\n",
    "import time \n",
    "\n",
    "start = time.perf_counter()\n",
    "\n",
    "def do_something():\n",
    "    print('Sleeping for 1 second....')\n",
    "    time.sleep(1)\n",
    "    print('Done sleeping...')\n",
    "    \n",
    "\n",
    "threads = []\n",
    "for _ in range(10):\n",
    "    \n",
    "    t = threading.Thread(target=do_something)\n",
    "    t.start()\n",
    "    threads.append(t)\n",
    "    \n",
    "\n",
    "for thread in threads:\n",
    "    thread.join()\n",
    "\n",
    "finish = time.perf_counter()\n",
    "\n",
    "print(f'Finished in {round(finish-start, 2)} second(s)')\n"
   ]
  },
  {
   "cell_type": "markdown",
   "id": "90c22176",
   "metadata": {},
   "source": [
    "După cum se poate observa în partea de output, toate cele 10 thread-uri au fost pornite se pare în același timp, iar în acest fel am reușit să facem un program care în mod normal durează 10 secunde să se termine în aproximativ 1 secundă"
   ]
  },
  {
   "cell_type": "markdown",
   "id": "5710624a",
   "metadata": {},
   "source": [
    "În continuare o să aruncăm o privire la modul în care putem să introducem argumente în cadrul funcției care este rulată utilizând thread-uri."
   ]
  },
  {
   "cell_type": "markdown",
   "id": "dc8e6336",
   "metadata": {},
   "source": [
    "O să modificăm funcția 'do_something()' în așa fel încât acesta să primească un argument în momentul în care se apelează"
   ]
  },
  {
   "cell_type": "code",
   "execution_count": 16,
   "id": "f2d0dbff",
   "metadata": {},
   "outputs": [],
   "source": [
    "def do_something(seconds):\n",
    "    print(f'Sleeping for {seconds} second(s)...')\n",
    "    time.sleep(seconds)\n",
    "    print('Done sleeping...')\n",
    "    "
   ]
  },
  {
   "cell_type": "markdown",
   "id": "36b21b52",
   "metadata": {},
   "source": [
    "În acest moment, funcția respectivă necesită un argument în momentul în care se apelează. În momentul creeri unui thread, când se specifică funcția care este ca și target, acesta nu se apelează, doar se specifică, prin urmare nu se poate trece acest argument între paranteze (cum se face în mod normal în momentul în care se apelează o funcție). Pentru a putea specifica un argument în cadrul thread-urilor se utilizează 'args'. Acesta necesită o listă de valori care să fie trecute ca și argumente. În cazul de față se utilizează doar un argument, prin urmare o să fie o listă formată dintr-un singur element"
   ]
  },
  {
   "cell_type": "code",
   "execution_count": 17,
   "id": "b9f6a4f2",
   "metadata": {},
   "outputs": [
    {
     "name": "stdout",
     "output_type": "stream",
     "text": [
      "Sleeping for 1.5 second(s)...\n",
      "Sleeping for 1.5 second(s)...\n",
      "Sleeping for 1.5 second(s)...\n",
      "Sleeping for 1.5 second(s)...\n",
      "Sleeping for 1.5 second(s)...\n",
      "Sleeping for 1.5 second(s)...\n",
      "Sleeping for 1.5 second(s)...\n",
      "Sleeping for 1.5 second(s)...\n",
      "Sleeping for 1.5 second(s)...\n",
      "Sleeping for 1.5 second(s)...\n",
      "Done sleeping...\n",
      "Done sleeping...\n",
      "Done sleeping...\n",
      "Done sleeping...\n",
      "Done sleeping...\n",
      "Done sleeping...\n",
      "Done sleeping...\n",
      "Done sleeping...\n",
      "Done sleeping...\n",
      "Done sleeping...\n",
      "Finished in 1.52 second(s)\n"
     ]
    }
   ],
   "source": [
    "import threading\n",
    "import time \n",
    "\n",
    "start = time.perf_counter()\n",
    "\n",
    "def do_something(seconds):\n",
    "    print(f'Sleeping for {seconds} second(s)...')\n",
    "    time.sleep(seconds)\n",
    "    print('Done sleeping...')\n",
    "    \n",
    "\n",
    "threads = []\n",
    "for _ in range(10):\n",
    "    \n",
    "    t = threading.Thread(target=do_something, args=[1.5])\n",
    "    t.start()\n",
    "    threads.append(t)\n",
    "    \n",
    "\n",
    "for thread in threads:\n",
    "    thread.join()\n",
    "\n",
    "finish = time.perf_counter()\n",
    "\n",
    "print(f'Finished in {round(finish-start, 2)} second(s)')\n"
   ]
  },
  {
   "cell_type": "markdown",
   "id": "787d7239",
   "metadata": {},
   "source": [
    "În cadrul codului de mai sus ('t = threading.Thread(target=do_something, args=[1.5]') s-a specificat ca și argument pentru funcția 'do_something()' valoarea de 1.5, ceea ce înseamnă că funcția o să aștepte pentru 1.5 secunde. Dacă se rula funcția de 10 ori fără a se utiliza thread-uri, atunci ar fi fost nevoie de 15 secunde pentru a se rula, însă cu ajutorul conceptului de 'multhithreading', codul respectiv s-a rulat în aproximativ 1.5 secunde (cu 10 thread-uri)"
   ]
  },
  {
   "cell_type": "markdown",
   "id": "d6be84f1",
   "metadata": {},
   "source": [
    "După cum spuneam la început, o să ne uităm inițial peste metoda veche de a crea thread-uri. Metoda descrisă mai sus este aceea metodă"
   ]
  },
  {
   "cell_type": "markdown",
   "id": "32f26c2f",
   "metadata": {},
   "source": [
    "Începând cu Python 3.2, s-a adăugat o noțiune care poartă denumire de 'thread pool executor', iar în majoritatea cazurilor acesta o să fie o metodă mai rapidă și mai eficientă de a crea și rula thread-uri și de asemenea permite schimarea rapidă de la 'multithreading' la 'multiprocessing'."
   ]
  },
  {
   "cell_type": "markdown",
   "id": "bba7e856",
   "metadata": {},
   "source": [
    "Acest thread pool executor nu se găsește în modulul de 'threading', ci se găsește în modulul 'concurrent.futures'"
   ]
  },
  {
   "cell_type": "code",
   "execution_count": 18,
   "id": "62fb922d",
   "metadata": {},
   "outputs": [],
   "source": [
    "import concurrent.futures\n"
   ]
  },
  {
   "cell_type": "markdown",
   "id": "3954f0a5",
   "metadata": {},
   "source": [
    "Când se utilizează acest 'thread pool executor' este recomandat să se utilizeze împreună cu un context manager (with)"
   ]
  },
  {
   "cell_type": "code",
   "execution_count": 20,
   "id": "33e88eee",
   "metadata": {},
   "outputs": [],
   "source": [
    "with concurrent.futures.ThreadPoolExecutor() as executor:\n",
    "    pass\n"
   ]
  },
  {
   "cell_type": "markdown",
   "id": "586a7b97",
   "metadata": {},
   "source": [
    "În cadrul 'thread pool executor' există mai multe metode care se pot utiliza. Dacă dorim să executăm câte o funcție pe rând, se paote utiliza metoda '.submit()'. Metoda programează o metodă să fie executată și returnează un future object"
   ]
  },
  {
   "cell_type": "code",
   "execution_count": 22,
   "id": "6304c9d3",
   "metadata": {},
   "outputs": [
    {
     "name": "stdout",
     "output_type": "stream",
     "text": [
      "Sleeping for 1.5 second(s)...\n",
      "Done sleeping...\n",
      "Finished in 1.5 second(s)\n"
     ]
    }
   ],
   "source": [
    "import concurrent.futures\n",
    "import time\n",
    "\n",
    "start = time.perf_counter()\n",
    "\n",
    "def do_something(seconds):\n",
    "    print(f'Sleeping for {seconds} second(s)...')\n",
    "    time.sleep(seconds)\n",
    "    print('Done sleeping...')\n",
    "    \n",
    "with concurrent.futures.ThreadPoolExecutor() as executor:\n",
    "    f1 = executor.submit(do_something, 1.5)\n",
    "    \n",
    "finish = time.perf_counter()\n",
    "\n",
    "print(f'Finished in {round(finish-start, 2)} second(s)')\n"
   ]
  },
  {
   "cell_type": "markdown",
   "id": "1c3cfb31",
   "metadata": {},
   "source": [
    "Din nou, metoda '.submit()' programează o funcție să fie executată și returnează un future object. Un future object, practic encapsulează execuția funcției și ne permite să o verificăm după ce a fost programată. Putem verifica dacă rulează, dacă s-a terminat de rulat și de asemenea putem verifica și rezultatul. Dacă verificăm rezultatul, acesta o să ne ofere partea de 'return' a funcției. În momentul de față funcția nu returnează nimic, dar o să o modificăm ca acesta să returneze un string"
   ]
  },
  {
   "cell_type": "code",
   "execution_count": 23,
   "id": "d8f2b592",
   "metadata": {},
   "outputs": [],
   "source": [
    "def do_something(seconds):\n",
    "    print(f'Sleeping for {seconds} second(s)...')\n",
    "    time.sleep(seconds)\n",
    "    return 'Done sleeping...'\n"
   ]
  },
  {
   "cell_type": "markdown",
   "id": "7748749a",
   "metadata": {},
   "source": [
    "Funcția 'do_something()' a fost modificată pentru a returna string-ul de 'Done sleeping...' în loc de a îl printa doar. Acum, acest string poate fi extras utilizând metoda '.result()'"
   ]
  },
  {
   "cell_type": "code",
   "execution_count": 24,
   "id": "0b67121b",
   "metadata": {},
   "outputs": [
    {
     "name": "stdout",
     "output_type": "stream",
     "text": [
      "Sleeping for 1.5 second(s)...\n",
      "Done sleeping...\n"
     ]
    }
   ],
   "source": [
    "with concurrent.futures.ThreadPoolExecutor() as executor:\n",
    "    f1 = executor.submit(do_something, 1.5)\n",
    "    print(f1.result())\n",
    "    "
   ]
  },
  {
   "cell_type": "markdown",
   "id": "d74f72bf",
   "metadata": {},
   "source": [
    "În momentul în care se rulează metoda '.result()' o să aștepte până în momentul în care funcția este rulată."
   ]
  },
  {
   "cell_type": "code",
   "execution_count": 25,
   "id": "8e2d83c8",
   "metadata": {},
   "outputs": [
    {
     "name": "stdout",
     "output_type": "stream",
     "text": [
      "Sleeping for 1.5 second(s)...\n",
      "Done sleeping...\n",
      "Finished in 1.51 second(s)\n"
     ]
    }
   ],
   "source": [
    "import concurrent.futures\n",
    "import time\n",
    "\n",
    "start = time.perf_counter()\n",
    "\n",
    "def do_something(seconds):\n",
    "    print(f'Sleeping for {seconds} second(s)...')\n",
    "    time.sleep(seconds)\n",
    "    return 'Done sleeping...'\n",
    "    \n",
    "with concurrent.futures.ThreadPoolExecutor() as executor:\n",
    "    f1 = executor.submit(do_something, 1.5)\n",
    "    print(f1.result())\n",
    "    \n",
    "finish = time.perf_counter()\n",
    "\n",
    "print(f'Finished in {round(finish-start, 2)} second(s)')\n"
   ]
  },
  {
   "cell_type": "markdown",
   "id": "4b3f2e3f",
   "metadata": {},
   "source": [
    " Dacă dorim să rulăm de mai multe ori, atunci putem apela metoda '.submit()' de mai multe ori"
   ]
  },
  {
   "cell_type": "code",
   "execution_count": 26,
   "id": "3661f579",
   "metadata": {},
   "outputs": [
    {
     "name": "stdout",
     "output_type": "stream",
     "text": [
      "Sleeping for 1.5 second(s)...\n",
      "Sleeping for 1.5 second(s)...\n",
      "Done sleeping...\n",
      "Done sleeping...\n",
      "Finished in 1.51 second(s)\n"
     ]
    }
   ],
   "source": [
    "import concurrent.futures\n",
    "import time\n",
    "\n",
    "start = time.perf_counter()\n",
    "\n",
    "def do_something(seconds):\n",
    "    print(f'Sleeping for {seconds} second(s)...')\n",
    "    time.sleep(seconds)\n",
    "    return 'Done sleeping...'\n",
    "    \n",
    "with concurrent.futures.ThreadPoolExecutor() as executor:\n",
    "    f1 = executor.submit(do_something, 1.5)\n",
    "    f2 = executor.submit(do_something, 1.5)\n",
    "    \n",
    "    print(f1.result())\n",
    "    print(f2.result())\n",
    "    \n",
    "finish = time.perf_counter()\n",
    "\n",
    "print(f'Finished in {round(finish-start, 2)} second(s)')\n"
   ]
  },
  {
   "cell_type": "markdown",
   "id": "a71b1a77",
   "metadata": {},
   "source": [
    "Dacă se dorește să ruleze funcția de mai multe ori (de 10 ori de exemplu, ca și în cazul de sus), atunci este recomandat din nou să se utilizeze o buclă for. Am văzut mai sus cum se poate utiliza o buclă for pentru a rula o funcție utilizând tread-uri de 10 ori, iar de aceea în acest moment o să utilizăm list comprehension pentru a apela metoda submit de 10 ori"
   ]
  },
  {
   "cell_type": "code",
   "execution_count": 27,
   "id": "e231035c",
   "metadata": {},
   "outputs": [
    {
     "name": "stdout",
     "output_type": "stream",
     "text": [
      "Sleeping for 1.5 second(s)...\n",
      "Sleeping for 1.5 second(s)...\n",
      "Sleeping for 1.5 second(s)...\n",
      "Sleeping for 1.5 second(s)...\n",
      "Sleeping for 1.5 second(s)...\n",
      "Sleeping for 1.5 second(s)...\n",
      "Sleeping for 1.5 second(s)...\n",
      "Sleeping for 1.5 second(s)...\n",
      "Sleeping for 1.5 second(s)...\n",
      "Sleeping for 1.5 second(s)...\n"
     ]
    }
   ],
   "source": [
    "with concurrent.futures.ThreadPoolExecutor() as executor:\n",
    "    result = [executor.submit(do_something, 1.5) for _ in range(10)] "
   ]
  },
  {
   "cell_type": "markdown",
   "id": "bae63dd8",
   "metadata": {},
   "source": [
    "Pentru a extrage rezultatul pentru fiecare funcție putem utiliza altă metodă, aceasta fiind 'as_completed()'. Funcția respectivă returnează un iterator pe care îl putem parcurge și care o să returneze (yield) rezultatul funcție pe măsură ce funcția s-a terminat de rulat."
   ]
  },
  {
   "cell_type": "code",
   "execution_count": 29,
   "id": "741a8d2e",
   "metadata": {},
   "outputs": [
    {
     "name": "stdout",
     "output_type": "stream",
     "text": [
      "Sleeping for 1.5 second(s)...\n",
      "Sleeping for 1.5 second(s)...\n",
      "Sleeping for 1.5 second(s)...\n",
      "Sleeping for 1.5 second(s)...\n",
      "Sleeping for 1.5 second(s)...\n",
      "Sleeping for 1.5 second(s)...\n",
      "Sleeping for 1.5 second(s)...\n",
      "Sleeping for 1.5 second(s)...\n",
      "Sleeping for 1.5 second(s)...\n",
      "Sleeping for 1.5 second(s)...\n",
      "Done sleeping...\n",
      "Done sleeping...\n",
      "Done sleeping...\n",
      "Done sleeping...\n",
      "Done sleeping...\n",
      "Done sleeping...\n",
      "Done sleeping...\n",
      "Done sleeping...\n",
      "Done sleeping...\n",
      "Done sleeping...\n"
     ]
    }
   ],
   "source": [
    "with concurrent.futures.ThreadPoolExecutor() as executor:\n",
    "    results = [executor.submit(do_something, 1.5) for _ in range(10)] \n",
    "    \n",
    "    for f in concurrent.futures.as_completed(results):\n",
    "        print(f.result())\n",
    "        "
   ]
  },
  {
   "cell_type": "code",
   "execution_count": 30,
   "id": "f6bca0b5",
   "metadata": {},
   "outputs": [
    {
     "name": "stdout",
     "output_type": "stream",
     "text": [
      "Sleeping for 1.5 second(s)...\n",
      "Sleeping for 1.5 second(s)...\n",
      "Sleeping for 1.5 second(s)...\n",
      "Sleeping for 1.5 second(s)...\n",
      "Sleeping for 1.5 second(s)...\n",
      "Sleeping for 1.5 second(s)...\n",
      "Sleeping for 1.5 second(s)...\n",
      "Sleeping for 1.5 second(s)...\n",
      "Sleeping for 1.5 second(s)...\n",
      "Sleeping for 1.5 second(s)...\n",
      "Done sleeping...\n",
      "Done sleeping...\n",
      "Done sleeping...\n",
      "Done sleeping...\n",
      "Done sleeping...\n",
      "Done sleeping...\n",
      "Done sleeping...\n",
      "Done sleeping...\n",
      "Done sleeping...\n",
      "Done sleeping...\n",
      "Finished in 1.52 second(s)\n"
     ]
    }
   ],
   "source": [
    "import concurrent.futures\n",
    "import time\n",
    "\n",
    "start = time.perf_counter()\n",
    "\n",
    "def do_something(seconds):\n",
    "    print(f'Sleeping for {seconds} second(s)...')\n",
    "    time.sleep(seconds)\n",
    "    return 'Done sleeping...'\n",
    "    \n",
    "with concurrent.futures.ThreadPoolExecutor() as executor:\n",
    "    results = [executor.submit(do_something, 1.5) for _ in range(10)] \n",
    "    \n",
    "    for f in concurrent.futures.as_completed(results):\n",
    "        print(f.result())\n",
    "    \n",
    "finish = time.perf_counter()\n",
    "\n",
    "print(f'Finished in {round(finish-start, 2)} second(s)')\n"
   ]
  },
  {
   "cell_type": "markdown",
   "id": "1935da0a",
   "metadata": {},
   "source": [
    "Pentru a dovedi că metoda 'as_completed()' returnează valorile în momentul în care funcția s-a rulat, o să utilizăm un set de intervale de secunde diferite în momentul apelării funcției. O să creem o listă de secunde (o listă ce o să conțină valori care reprezintă numărul de secunde pe care să îl aștepte funcția 'do_something()')"
   ]
  },
  {
   "cell_type": "code",
   "execution_count": 31,
   "id": "286ab463",
   "metadata": {},
   "outputs": [
    {
     "name": "stdout",
     "output_type": "stream",
     "text": [
      "Sleeping for 5 second(s)...\n",
      "Sleeping for 4 second(s)...\n",
      "Sleeping for 3 second(s)...\n",
      "Sleeping for 2 second(s)...\n",
      "Sleeping for 1 second(s)...\n",
      "Done sleeping for 1 second(s)\n",
      "Done sleeping for 2 second(s)\n",
      "Done sleeping for 3 second(s)\n",
      "Done sleeping for 4 second(s)\n",
      "Done sleeping for 5 second(s)\n",
      "Finished in 5.01 second(s)\n"
     ]
    }
   ],
   "source": [
    "import concurrent.futures\n",
    "import time\n",
    "\n",
    "start = time.perf_counter()\n",
    "\n",
    "def do_something(seconds):\n",
    "    print(f'Sleeping for {seconds} second(s)...')\n",
    "    time.sleep(seconds)\n",
    "    return f'Done sleeping for {seconds} second(s)'\n",
    "    \n",
    "with concurrent.futures.ThreadPoolExecutor() as executor:\n",
    "    secs = [5, 4, 3, 2, 1]\n",
    "    results = [executor.submit(do_something, sec) for sec in secs] \n",
    "    \n",
    "    for f in concurrent.futures.as_completed(results):\n",
    "        print(f.result())\n",
    "    \n",
    "finish = time.perf_counter()\n",
    "\n",
    "print(f'Finished in {round(finish-start, 2)} second(s)')\n"
   ]
  },
  {
   "cell_type": "markdown",
   "id": "890972a6",
   "metadata": {},
   "source": [
    "După cum se poate vedea în output, prima dată s-a rulat funcția 'do_something()' cu argumentul de 5 secunde, apoi de 4, 3, 2 și la final 1 secundă, însă prima dată s-a terminat de rulat funcția în care s-a oferit ca și argument 1 secundă, iar rezultatul acesta este returnat și afișat primul."
   ]
  },
  {
   "cell_type": "markdown",
   "id": "feefd77b",
   "metadata": {},
   "source": [
    "În cadrul codului de mai sus, cu ajutorul list comprehension reușim să apelăm o funcție cu argumente diferite în momentul în care parcurgem lista respectivă (cea de argument). Python ne oferă o metodă specifică care face acest lucru, care mapează o funcție la un set de argumente (acestă funcție poartă denumirea de 'map()'). Această funcție există și în cadrul unui 'ThreadPoolExecutor' și se poate apela"
   ]
  },
  {
   "cell_type": "markdown",
   "id": "09c6b6bc",
   "metadata": {},
   "source": [
    "Diferența dintre '.submit()' și '.map()' este că pentru '.map()', rezultatul funcțiilor este returnat în funcție de ordinea în care s-au apelat funcțiile respective, nu se returnează în momentul în care se termină de rulat funcția"
   ]
  },
  {
   "cell_type": "code",
   "execution_count": 32,
   "id": "28fafb51",
   "metadata": {},
   "outputs": [
    {
     "name": "stdout",
     "output_type": "stream",
     "text": [
      "Sleeping for 5 second(s)...\n",
      "Sleeping for 4 second(s)...\n",
      "Sleeping for 3 second(s)...\n",
      "Sleeping for 2 second(s)...\n",
      "Sleeping for 1 second(s)...\n",
      "Done sleeping for 5 second(s)\n",
      "Done sleeping for 4 second(s)\n",
      "Done sleeping for 3 second(s)\n",
      "Done sleeping for 2 second(s)\n",
      "Done sleeping for 1 second(s)\n",
      "Finished in 5.01 second(s)\n"
     ]
    }
   ],
   "source": [
    "import concurrent.futures\n",
    "import time\n",
    "\n",
    "start = time.perf_counter()\n",
    "\n",
    "def do_something(seconds):\n",
    "    print(f'Sleeping for {seconds} second(s)...')\n",
    "    time.sleep(seconds)\n",
    "    return f'Done sleeping for {seconds} second(s)'\n",
    "    \n",
    "with concurrent.futures.ThreadPoolExecutor() as executor:\n",
    "    secs = [5, 4, 3, 2, 1]\n",
    "    results = executor.map(do_something, secs) \n",
    "    \n",
    "    for result in results:\n",
    "        print(result)\n",
    "    \n",
    "finish = time.perf_counter()\n",
    "\n",
    "print(f'Finished in {round(finish-start, 2)} second(s)')\n"
   ]
  },
  {
   "cell_type": "markdown",
   "id": "6a6078d7",
   "metadata": {},
   "source": [
    "Când am utilizat metoda '.submit()', aceasta returna un future object, iar metoda '.map()' returnează rezultatul, de aceea putem să parcurgem lista de rezultate și să printăm fiecare rezultat în parte\n",
    "\n",
    "    for result in results:\n",
    "        \n",
    "        print(result)"
   ]
  },
  {
   "cell_type": "markdown",
   "id": "f618ae69",
   "metadata": {},
   "source": [
    "Acum că ne-am uitat peste un exemplu în care am utilizat 'time.sleep()' pentru a vedea cum anume funcționează partea de 'multithreading', în continuare o să ne utilzăm de un exemplu concludent în care s-ar putea utiliza acestă parte pentru a ne îmbunătăți viteza în care rulează script-ul"
   ]
  },
  {
   "cell_type": "markdown",
   "id": "6018063c",
   "metadata": {},
   "source": [
    "În codul de mai jos este un script care downloadează imagini de mare rezoluție de pe unsplash. Cum anume funcționează acest script?\n",
    "\n",
    "Acesta are o listă de url-uri în care fiecare dintre acestea reprezintă un link către imaginea pe care dorim să o descărcăm. Fiecare url se procesează în parte în acest fel\n",
    "\n",
    "    1. Folosind modulul 'requests', facem un 'request' de tip 'get' către url pentru a ne returna datele\n",
    "    \n",
    "    2. Pentru fiecare imagine se preia numele imaginii respective\n",
    "    \n",
    "    3. Se creează un string ce conține numele imaginii plus extensia de tip .png\n",
    "    \n",
    "    4. Se deschide un fișier în formatul 'wb' (write bytes) prin intermediul căreia se descarcă imaginea respectivă în folderul curent\n",
    "    \n",
    "Acest procedeu este urmat pentru fiecare imagine în parte, pentru fiecare url"
   ]
  },
  {
   "cell_type": "code",
   "execution_count": 33,
   "id": "79e09a97",
   "metadata": {},
   "outputs": [
    {
     "name": "stdout",
     "output_type": "stream",
     "text": [
      "photo-1516117172878-fd2c41f4a759.jpg was downloaded...\n",
      "photo-1532009324734-20a7a5813719.jpg was downloaded...\n",
      "photo-1524429656589-6633a470097c.jpg was downloaded...\n",
      "photo-1530224264768-7ff8c1789d79.jpg was downloaded...\n",
      "photo-1564135624576-c5c88640f235.jpg was downloaded...\n",
      "photo-1541698444083-023c97d3f4b6.jpg was downloaded...\n",
      "photo-1522364723953-452d3431c267.jpg was downloaded...\n",
      "photo-1513938709626-033611b8cc03.jpg was downloaded...\n",
      "photo-1507143550189-fed454f93097.jpg was downloaded...\n",
      "photo-1493976040374-85c8e12f0c0e.jpg was downloaded...\n",
      "photo-1504198453319-5ce911bafcde.jpg was downloaded...\n",
      "photo-1530122037265-a5f1f91d3b99.jpg was downloaded...\n",
      "photo-1516972810927-80185027ca84.jpg was downloaded...\n",
      "photo-1550439062-609e1531270e.jpg was downloaded...\n",
      "photo-1549692520-acc6669e2f0c.jpg was downloaded...\n",
      "Finished in 20.911605334000342 seconds\n"
     ]
    }
   ],
   "source": [
    "import requests\n",
    "import time\n",
    "\n",
    "img_urls = [\n",
    "    'https://images.unsplash.com/photo-1516117172878-fd2c41f4a759',\n",
    "    'https://images.unsplash.com/photo-1532009324734-20a7a5813719',\n",
    "    'https://images.unsplash.com/photo-1524429656589-6633a470097c',\n",
    "    'https://images.unsplash.com/photo-1530224264768-7ff8c1789d79',\n",
    "    'https://images.unsplash.com/photo-1564135624576-c5c88640f235',\n",
    "    'https://images.unsplash.com/photo-1541698444083-023c97d3f4b6',\n",
    "    'https://images.unsplash.com/photo-1522364723953-452d3431c267',\n",
    "    'https://images.unsplash.com/photo-1513938709626-033611b8cc03',\n",
    "    'https://images.unsplash.com/photo-1507143550189-fed454f93097',\n",
    "    'https://images.unsplash.com/photo-1493976040374-85c8e12f0c0e',\n",
    "    'https://images.unsplash.com/photo-1504198453319-5ce911bafcde',\n",
    "    'https://images.unsplash.com/photo-1530122037265-a5f1f91d3b99',\n",
    "    'https://images.unsplash.com/photo-1516972810927-80185027ca84',\n",
    "    'https://images.unsplash.com/photo-1550439062-609e1531270e',\n",
    "    'https://images.unsplash.com/photo-1549692520-acc6669e2f0c'\n",
    "]\n",
    "\n",
    "t1 = time.perf_counter()\n",
    "\n",
    "\n",
    "for img_url in img_urls:\n",
    "    img_bytes = requests.get(img_url).content\n",
    "    img_name = img_url.split('/')[3]\n",
    "    img_name = f'{img_name}.jpg'\n",
    "    with open(img_name, 'wb') as img_file:\n",
    "        img_file.write(img_bytes)\n",
    "        print(f'{img_name} was downloaded...')\n",
    "\n",
    "\n",
    "t2 = time.perf_counter()\n",
    "\n",
    "print(f'Finished in {t2-t1} seconds')\n"
   ]
  },
  {
   "cell_type": "markdown",
   "id": "76300104",
   "metadata": {},
   "source": [
    "Cu un număr de 15 imagini care trebuie downloade, script-ul respectiv rulează în aproximativ 20 de secunde. Acest script ia primul url, începe descărcarea imaginii, iar în timp ce imaginea se descarcă, scriptul așteaptă până ce se termină de descărcat pentru a putea trece la următorul url pentru a fi procesat. Această așteptare (descărcare imaginii sau a anumitor lucrui de pe internet) reprezintă un caz de I/O bounds, prin umrare reprezintă un bun candidat de a rula codul simultan utilizând multithreading"
   ]
  },
  {
   "cell_type": "markdown",
   "id": "b04d0050",
   "metadata": {},
   "source": [
    "După cum se spunea, acest script ia un anumit url și îl procesează. Pentru a putea modifica acest cod ca să utilizeze 'multithreading', trebuie să creem o listă care procesează acest link. Funcția respectivă trebuie după mapată pentru fiecare url din lista care conține aceste url-uri. Acest procedeu este asemănător cu maparea funcției 'do_something()' pentru valori diferite (funcția care îi spune programului să aștepte un număr de secunde)."
   ]
  },
  {
   "cell_type": "markdown",
   "id": "2a69a7a2",
   "metadata": {},
   "source": [
    "Pentru început o să creem funcția care se ocupă de partea de procesare. Pentru a crea funcția care procesează un url, tot ce trebuie făcut este să modificăm lina de cod 'for img_url in img_urls:' cu 'def download_image(img_url):'"
   ]
  },
  {
   "cell_type": "code",
   "execution_count": null,
   "id": "d01f9305",
   "metadata": {},
   "outputs": [],
   "source": [
    "def download_image(img_url)\n",
    "    img_bytes = requests.get(img_url).content\n",
    "    img_name = img_url.split('/')[3]\n",
    "    img_name = f'{img_name}.jpg'\n",
    "    with open(img_name, 'wb') as img_file:\n",
    "        img_file.write(img_bytes)\n",
    "        print(f'{img_name} was downloaded...')\n",
    "        "
   ]
  },
  {
   "cell_type": "markdown",
   "id": "04c284a3",
   "metadata": {},
   "source": [
    "După ce s-a creat funcția respectivă, se importă modului 'concurrent.futures' de unde se creează un 'ThreadPoolExector()', după care utilizând metoda '.map()' din cadrul executorului se mapează funcția pentru fiecare url"
   ]
  },
  {
   "cell_type": "code",
   "execution_count": 40,
   "id": "446be834",
   "metadata": {},
   "outputs": [
    {
     "name": "stdout",
     "output_type": "stream",
     "text": [
      "photo-1516117172878-fd2c41f4a759.jpg was downloaded...\n",
      "photo-1516972810927-80185027ca84.jpg was downloaded...\n",
      "photo-1550439062-609e1531270e.jpg was downloaded...\n",
      "photo-1549692520-acc6669e2f0c.jpg was downloaded...\n",
      "photo-1507143550189-fed454f93097.jpg was downloaded...\n",
      "photo-1504198453319-5ce911bafcde.jpg was downloaded...\n",
      "photo-1530224264768-7ff8c1789d79.jpg was downloaded...\n",
      "photo-1564135624576-c5c88640f235.jpg was downloaded...\n",
      "photo-1524429656589-6633a470097c.jpg was downloaded...\n",
      "photo-1513938709626-033611b8cc03.jpg was downloaded...\n",
      "photo-1522364723953-452d3431c267.jpg was downloaded...\n",
      "photo-1530122037265-a5f1f91d3b99.jpg was downloaded...\n",
      "photo-1493976040374-85c8e12f0c0e.jpg was downloaded...\n",
      "photo-1541698444083-023c97d3f4b6.jpg was downloaded...\n",
      "photo-1532009324734-20a7a5813719.jpg was downloaded...\n",
      "Finished in 21.962286068999674 seconds\n"
     ]
    }
   ],
   "source": [
    "import requests\n",
    "import time\n",
    "import concurrent.futures\n",
    "\n",
    "img_urls = [\n",
    "    'https://images.unsplash.com/photo-1516117172878-fd2c41f4a759',\n",
    "    'https://images.unsplash.com/photo-1532009324734-20a7a5813719',\n",
    "    'https://images.unsplash.com/photo-1524429656589-6633a470097c',\n",
    "    'https://images.unsplash.com/photo-1530224264768-7ff8c1789d79',\n",
    "    'https://images.unsplash.com/photo-1564135624576-c5c88640f235',\n",
    "    'https://images.unsplash.com/photo-1541698444083-023c97d3f4b6',\n",
    "    'https://images.unsplash.com/photo-1522364723953-452d3431c267',\n",
    "    'https://images.unsplash.com/photo-1513938709626-033611b8cc03',\n",
    "    'https://images.unsplash.com/photo-1507143550189-fed454f93097',\n",
    "    'https://images.unsplash.com/photo-1493976040374-85c8e12f0c0e',\n",
    "    'https://images.unsplash.com/photo-1504198453319-5ce911bafcde',\n",
    "    'https://images.unsplash.com/photo-1530122037265-a5f1f91d3b99',\n",
    "    'https://images.unsplash.com/photo-1516972810927-80185027ca84',\n",
    "    'https://images.unsplash.com/photo-1550439062-609e1531270e',\n",
    "    'https://images.unsplash.com/photo-1549692520-acc6669e2f0c'\n",
    "]\n",
    "\n",
    "t1 = time.perf_counter()\n",
    "\n",
    "\n",
    "def download_image(img_url):\n",
    "    img_bytes = requests.get(img_url).content\n",
    "    img_name = img_url.split('/')[3]\n",
    "    img_name = f'{img_name}.jpg'\n",
    "    with open(img_name, 'wb') as img_file:\n",
    "        img_file.write(img_bytes)\n",
    "        print(f'{img_name} was downloaded...')\n",
    "\n",
    "with concurrent.futures.ThreadPoolExecutor() as executor:\n",
    "    executor.map(download_image, img_urls)\n",
    "\n",
    "t2 = time.perf_counter()\n",
    "\n",
    "print(f'Finished in {t2-t1} seconds')\n"
   ]
  },
  {
   "cell_type": "markdown",
   "id": "5b5b6634",
   "metadata": {},
   "source": [
    "În acest moment, codul rulează asincron, imaginile se descarcă mai rapid (timpul este același deoarece acest aspect ține și de conexiunea de internet)   "
   ]
  },
  {
   "cell_type": "markdown",
   "id": "25d77b1a",
   "metadata": {},
   "source": [
    "În cazul în care nu se utilizează un I/O bounds, ci un CPU bounds, unde scriptul folosește computații de calcul (precum preocesarea acestor imagini) atunci utilizarea de multithreading ar încetit acest proces. Pentru partea de procesare a imaginilor descărcate, o variantă de îmbunătățire a codului îl reprezintă utilizarea conceptului de 'multiprocessing'"
   ]
  },
  {
   "cell_type": "code",
   "execution_count": null,
   "id": "11f12586",
   "metadata": {},
   "outputs": [],
   "source": []
  }
 ],
 "metadata": {
  "kernelspec": {
   "display_name": "Python 3 (ipykernel)",
   "language": "python",
   "name": "python3"
  },
  "language_info": {
   "codemirror_mode": {
    "name": "ipython",
    "version": 3
   },
   "file_extension": ".py",
   "mimetype": "text/x-python",
   "name": "python",
   "nbconvert_exporter": "python",
   "pygments_lexer": "ipython3",
   "version": "3.9.7"
  }
 },
 "nbformat": 4,
 "nbformat_minor": 5
}
