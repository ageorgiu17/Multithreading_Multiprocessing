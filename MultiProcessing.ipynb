{
 "cells": [
  {
   "cell_type": "markdown",
   "id": "ec3c9bb1",
   "metadata": {},
   "source": [
    "În acest turorial o să învățăm cum să rulăm cod în paralel utilizând partea de 'multi processing'"
   ]
  },
  {
   "cell_type": "markdown",
   "id": "fcaacc86",
   "metadata": {},
   "source": [
    " Întrebarea este de ce să utilizăm partea de 'multiprocessing'. Acest concept se poate utiliza când dorim să îmbunătățim drastic viteza scriptului. Această îmbunătățire de viteză provine de la rularea unui task în paralel."
   ]
  },
  {
   "cell_type": "markdown",
   "id": "98df8998",
   "metadata": {},
   "source": [
    "O să începem prin a utiliza modulul 'time', iar din acesta o să ne folosim de metoda '.sleep()'. În acest fel o să ne dăm seama cum anume funcționează partea de rulare de cod în paralel utilizând 'multiprocessing', iar la final o să creem și un program care utilizează aceste noțiuni pentru a procesa imagini de mare rezoluție aflate pe mașina pe care lucrăm."
   ]
  },
  {
   "cell_type": "code",
   "execution_count": 2,
   "id": "e7919dec",
   "metadata": {},
   "outputs": [
    {
     "name": "stdout",
     "output_type": "stream",
     "text": [
      "Sleeping for 1 second....\n",
      "Done sleeping...\n",
      "Finished in 1.0 second(s)\n"
     ]
    }
   ],
   "source": [
    "import time\n",
    "\n",
    "start = time.perf_counter()\n",
    "\n",
    "def do_something():\n",
    "    print('Sleeping for 1 second....')\n",
    "    time.sleep(1)\n",
    "    print('Done sleeping...')\n",
    "    \n",
    "do_something()\n",
    "\n",
    "finish = time.perf_counter()\n",
    "\n",
    "print(f'Finished in {round(finish-start, 2)} second(s)')\n"
   ]
  },
  {
   "cell_type": "markdown",
   "id": "35c2ae7a",
   "metadata": {},
   "source": [
    "În cadrul codului de mai sus am importat modulul 'time'. Funcția 'do_something()' ne afișează că programul nostru o să doarmă pentru 1 secundă, după care o să afișeze că această așteptare s-a terminat. La final, se afișează în cât timp s-a rulat codul"
   ]
  },
  {
   "cell_type": "markdown",
   "id": "d779cbb5",
   "metadata": {},
   "source": [
    "În outputul rulării codului se poate observa în momentul în care se apelează funcția 'do_something()' că se printează prima parte ('Sleeping for 1 second....') după care se așteaptă timp de 1 secundă, apoi se afișează 'Done sleeping...'"
   ]
  },
  {
   "cell_type": "markdown",
   "id": "4ee6f91f",
   "metadata": {},
   "source": [
    "La final ni se spune că scriptul a rulat în 1 secundă (cât timp s-a specificat în cadrul metodei 'time.sleep()')"
   ]
  },
  {
   "cell_type": "markdown",
   "id": "2cab370c",
   "metadata": {},
   "source": [
    "În situtația în care se apelează funcția 'do_something()' de 2 ori, atunci programul nostru o să mai aștepte încă 1 secundă în plus. De fiecare dată când se apelează funcția respectivă, timpul de rulare al scriptului se lungește cu 1 secundă."
   ]
  },
  {
   "cell_type": "code",
   "execution_count": 3,
   "id": "9cdd5164",
   "metadata": {},
   "outputs": [
    {
     "name": "stdout",
     "output_type": "stream",
     "text": [
      "Sleeping for 1 second....\n",
      "Done sleeping...\n",
      "Sleeping for 1 second....\n",
      "Done sleeping...\n",
      "Finished in 2.01 second(s)\n"
     ]
    }
   ],
   "source": [
    "import time\n",
    "\n",
    "start = time.perf_counter()\n",
    "\n",
    "def do_something():\n",
    "    print('Sleeping for 1 second....')\n",
    "    time.sleep(1)\n",
    "    print('Done sleeping...')\n",
    "    \n",
    "do_something()\n",
    "do_something()\n",
    "\n",
    "finish = time.perf_counter()\n",
    "\n",
    "print(f'Finished in {round(finish-start, 2)} second(s)')"
   ]
  },
  {
   "cell_type": "markdown",
   "id": "e169719a",
   "metadata": {},
   "source": [
    "Acest procedeu prin care se rulează o funcție, se așteaptă să se termine de rulat funcția respectivă (în cazul de față se așteaptă o secundă) după care începe să se ruleze altă funcție, poartă denumire de rulare în mod sincron. Dacă avem anumite task-uri care nu trebuie rulate în mod sincron, atunci putem utilza modulul de 'multiprocessing' pentru a împărți aceste task-uri la alte CPU-uri și pentru a le rula în același timp."
   ]
  },
  {
   "cell_type": "markdown",
   "id": "d773850d",
   "metadata": {},
   "source": [
    "Pentru a putea utiliza conceptul de 'multiprocessing' trebuie să importăm modulul 'multiprocessing'. Acest modul vine preinstalat cu Python, nu este nevoie de instalarea adițională pentru a fi utilizat"
   ]
  },
  {
   "cell_type": "code",
   "execution_count": 4,
   "id": "41aea96f",
   "metadata": {},
   "outputs": [],
   "source": [
    "import multiprocessing"
   ]
  },
  {
   "cell_type": "markdown",
   "id": "e274fa6c",
   "metadata": {},
   "source": [
    "O să aruncăm o privire inițial peste procedeul vechi prin care se realizează acest concept de 'multiprocessing', după care o să aruncăm o privire și peste metoda mai nouă (mai rapidă și mai eficientă)"
   ]
  },
  {
   "cell_type": "markdown",
   "id": "db6a3efb",
   "metadata": {},
   "source": [
    "În loc să rulăm funcția 'do_something()' de 2 ori, o să creem 2 procese, câte un proces pentru ficare apelare a funcției."
   ]
  },
  {
   "cell_type": "code",
   "execution_count": 5,
   "id": "e0b071eb",
   "metadata": {},
   "outputs": [],
   "source": [
    "p1 = multiprocessing.Process(target=do_something)"
   ]
  },
  {
   "cell_type": "markdown",
   "id": "d72b487b",
   "metadata": {},
   "source": [
    "În codul de mai sus am creat un Proces pentru funcția 'do_something()'. Din modulul 'multiprocessing' am apelat metoda 'Process'. Acesteia trebuie să îi oferim ca și parametru, un tagert, iar acest target reprezintă funcția care dorim să ruleze. De observat însă faptul că acestă funcție se trece ca și argument simplu, nu se apelează"
   ]
  },
  {
   "cell_type": "markdown",
   "id": "d8467b96",
   "metadata": {},
   "source": [
    "După cum spuneam este necesar să creem 2 procese, unul pentru fiecare apelare a funcției"
   ]
  },
  {
   "cell_type": "code",
   "execution_count": 6,
   "id": "e6650ea0",
   "metadata": {},
   "outputs": [],
   "source": [
    "p1 = multiprocessing.Process(target=do_something)\n",
    "p2 = multiprocessing.Process(target=do_something)"
   ]
  },
  {
   "cell_type": "code",
   "execution_count": 7,
   "id": "1f1b2a8b",
   "metadata": {},
   "outputs": [
    {
     "name": "stdout",
     "output_type": "stream",
     "text": [
      "Finished in 0.0 second(s)\n"
     ]
    }
   ],
   "source": [
    "import multiprocessing\n",
    "import time\n",
    "\n",
    "start = time.perf_counter()\n",
    "\n",
    "def do_something():\n",
    "    print('Sleeping for 1 second....')\n",
    "    time.sleep(1)\n",
    "    print('Done sleeping...')\n",
    "    \n",
    "p1 = multiprocessing.Process(target=do_something)\n",
    "p2 = multiprocessing.Process(target=do_something)\n",
    "\n",
    "finish = time.perf_counter()\n",
    "\n",
    "print(f'Finished in {round(finish-start, 2)} second(s)')"
   ]
  },
  {
   "cell_type": "markdown",
   "id": "76987528",
   "metadata": {},
   "source": [
    "În acest moment am creat 2 procese, însă nu am rulat codul (funcțiile) din cadrul proceselor. După cum se poate observa după output-ul de mai sus, script-ul nostru s-a rulat în 0 (zero) secunde, iar funcția 'do_something()' nu a fost apelată deloc. Pentru a le spune proceselor să ruleze, trebuie să utilizăm metoda '.start()' pentru fiecare dintre procesele create"
   ]
  },
  {
   "cell_type": "code",
   "execution_count": 8,
   "id": "06e3fb26",
   "metadata": {},
   "outputs": [
    {
     "name": "stdout",
     "output_type": "stream",
     "text": [
      "Sleeping for 1 second....Sleeping for 1 second....\n",
      "\n",
      "Done sleeping...Done sleeping...\n",
      "\n"
     ]
    }
   ],
   "source": [
    "p1.start()\n",
    "p2.start()"
   ]
  },
  {
   "cell_type": "markdown",
   "id": "c85612be",
   "metadata": {},
   "source": [
    "Dacă punem aceste linii de cod în cadrul scriptului, programul nu o să ruleze în modul în care ne-am aștepta"
   ]
  },
  {
   "cell_type": "code",
   "execution_count": 9,
   "id": "ace9d4ca",
   "metadata": {},
   "outputs": [
    {
     "name": "stdout",
     "output_type": "stream",
     "text": [
      "Finished in 0.02 second(s)\n",
      "Sleeping for 1 second....\n",
      "Sleeping for 1 second....\n",
      "Done sleeping...\n",
      "Done sleeping...\n"
     ]
    }
   ],
   "source": [
    "import multiprocessing\n",
    "import time\n",
    "\n",
    "start = time.perf_counter()\n",
    "\n",
    "def do_something():\n",
    "    print('Sleeping for 1 second....')\n",
    "    time.sleep(1)\n",
    "    print('Done sleeping...')\n",
    "    \n",
    "p1 = multiprocessing.Process(target=do_something)\n",
    "p2 = multiprocessing.Process(target=do_something)\n",
    "\n",
    "p1.start()\n",
    "p2.start()\n",
    "\n",
    "finish = time.perf_counter()\n",
    "\n",
    "print(f'Finished in {round(finish-start, 2)} second(s)')"
   ]
  },
  {
   "cell_type": "markdown",
   "id": "01668383",
   "metadata": {},
   "source": [
    "Cum se poate observa din output, se afișează că programul s-a rulat în aproximativ 0 (zero) secunde (acest print trebuia să apară la final, după ce s-au rulat cele 2 procese în care s-a apelat funcția 'do_something()'), iar abia după cele 2 procese sunt rulate"
   ]
  },
  {
   "cell_type": "markdown",
   "id": "8511c533",
   "metadata": {},
   "source": [
    "Motivul pentru care se afișează că scriptul s-a terminat în 0 (zero) secunde este faptul că în momentul în care s-au creat procesele, pentru procese durează puțin mai mult ca și thread-urile până ce pornesc, scriptul s-a continuat și a ajuns la partea în care se calculează cât timp a durat până ce s-a rulat tot scriptul, iar abia după aceasta cele 2 procese au început să ruleze."
   ]
  },
  {
   "cell_type": "markdown",
   "id": "ffb86260",
   "metadata": {},
   "source": [
    "Pentru a aștepta ca procesele să se termine de rulat, înainte să continue cu script-ul, trebuie să utilizăm metoda '.join()' pentru fiecare dintre procese, asta după ce procesele s-au pornit"
   ]
  },
  {
   "cell_type": "code",
   "execution_count": 10,
   "id": "b1ee935c",
   "metadata": {},
   "outputs": [],
   "source": [
    "p1.join()\n",
    "p2.join()"
   ]
  },
  {
   "cell_type": "code",
   "execution_count": 11,
   "id": "40983bc5",
   "metadata": {},
   "outputs": [
    {
     "name": "stdout",
     "output_type": "stream",
     "text": [
      "Sleeping for 1 second....Sleeping for 1 second....\n",
      "\n",
      "Done sleeping...Done sleeping...\n",
      "\n",
      "Finished in 1.05 second(s)\n"
     ]
    }
   ],
   "source": [
    "import multiprocessing\n",
    "import time\n",
    "\n",
    "start = time.perf_counter()\n",
    "\n",
    "def do_something():\n",
    "    print('Sleeping for 1 second....')\n",
    "    time.sleep(1)\n",
    "    print('Done sleeping...')\n",
    "    \n",
    "p1 = multiprocessing.Process(target=do_something)\n",
    "p2 = multiprocessing.Process(target=do_something)\n",
    "\n",
    "p1.start()\n",
    "p2.start()\n",
    "\n",
    "p1.join()\n",
    "p2.join()\n",
    "\n",
    "finish = time.perf_counter()\n",
    "\n",
    "print(f'Finished in {round(finish-start, 2)} second(s)')"
   ]
  },
  {
   "cell_type": "markdown",
   "id": "743a2dc1",
   "metadata": {},
   "source": [
    "După ce am utilizat și metoda '.join()' pentru cele 2 procese, putem să vedem acuma că inițial cele 2 procese s-au pornit, s-a așteptat să se termine de rulat cele 2 procese, iar abia după s-a trecut la partea în care s-a afișat timpul total de rulare pentru script"
   ]
  },
  {
   "cell_type": "markdown",
   "id": "7b58622f",
   "metadata": {},
   "source": [
    "Tot din output se poate observa că deși s-a apelat funcția 'do_something()' de 2 ori, programul tot a rulat într-o singură secundă, acesta fiind rezultatul utilizării proceselor multiple"
   ]
  },
  {
   "cell_type": "markdown",
   "id": "2671518f",
   "metadata": {},
   "source": [
    "În cazul în care se dorește să se apeleze funcția respectivă de 10 ori, atunci în cazul acesta, putem ghici că scriptului o să îi ia undeva la un pic peste 10 secunde să ruleze (fără a utiliza procese). Dacă se creează 10 procese diferite, atunci scriptul o să ruleze undeva tot în aproximativ 1 secundă, deoarece aceste funcții sunt acum rulate în paralel"
   ]
  },
  {
   "cell_type": "markdown",
   "id": "0c5ecc77",
   "metadata": {},
   "source": [
    "În loc să creem 10 procese diferite pentru fiecare apelare, o să utilizăm o buclă for pentru a le crea"
   ]
  },
  {
   "cell_type": "code",
   "execution_count": 12,
   "id": "909efb6b",
   "metadata": {},
   "outputs": [
    {
     "name": "stdout",
     "output_type": "stream",
     "text": [
      "Sleeping for 1 second....\n",
      "Sleeping for 1 second....\n",
      "Sleeping for 1 second....\n",
      "Sleeping for 1 second....\n",
      "Sleeping for 1 second....\n",
      "Sleeping for 1 second....\n",
      "Sleeping for 1 second....\n",
      "Sleeping for 1 second....\n",
      "Sleeping for 1 second....Finished in 0.12 second(s)\n",
      "\n",
      "Sleeping for 1 second....\n",
      "Done sleeping...\n",
      "Done sleeping...\n",
      "Done sleeping...\n",
      "Done sleeping...\n",
      "Done sleeping...\n",
      "Done sleeping...\n",
      "Done sleeping...\n",
      "Done sleeping...\n",
      "Done sleeping...\n",
      "Done sleeping...\n"
     ]
    }
   ],
   "source": [
    "import multiprocessing\n",
    "import time\n",
    "\n",
    "start = time.perf_counter()\n",
    "\n",
    "def do_something():\n",
    "    print('Sleeping for 1 second....')\n",
    "    time.sleep(1)\n",
    "    print('Done sleeping...')\n",
    "\n",
    "for _ in range(10):\n",
    "    p = multiprocessing.Process(target=do_something)\n",
    "    p.start()\n",
    "\n",
    "finish = time.perf_counter()\n",
    "\n",
    "print(f'Finished in {round(finish-start, 2)} second(s)')"
   ]
  },
  {
   "cell_type": "markdown",
   "id": "3a039b6c",
   "metadata": {},
   "source": [
    "În cadrul codului de mai sus, în acea buclă for am creat și am pornit procesele, însă nu putem să facem și join la procese pentru că o să facă join la proces înainte să parcurgă bucla și să creeze și să pornească toate procesele"
   ]
  },
  {
   "cell_type": "markdown",
   "id": "53d30c5a",
   "metadata": {},
   "source": [
    "Pentru a rezolva această problemă, este necesar să avem o bluclă în care să creem și să pornim procesele (ceea ce tocmai am făcut) și altă buclă care să conțină toate procesele, să le parcurgem pe toate din nou cu o buclă și să le facem '.join()'. Pentru acesta o să creem o listă care o să conțină toate aceste procese create și pornite după care o să parcurgem lista de procese și o să le dăm '.join()' la toate"
   ]
  },
  {
   "cell_type": "code",
   "execution_count": 13,
   "id": "22d9196f",
   "metadata": {},
   "outputs": [
    {
     "name": "stdout",
     "output_type": "stream",
     "text": [
      "Sleeping for 1 second....\n",
      "Sleeping for 1 second....\n",
      "Sleeping for 1 second....\n",
      "Sleeping for 1 second....\n",
      "Sleeping for 1 second....\n",
      "Sleeping for 1 second....\n",
      "Sleeping for 1 second....\n",
      "Sleeping for 1 second....\n",
      "Sleeping for 1 second....\n",
      "Sleeping for 1 second....\n",
      "Done sleeping...\n",
      "Done sleeping...\n",
      "Done sleeping...\n",
      "Done sleeping...\n",
      "Done sleeping...\n",
      "Done sleeping...\n",
      "Done sleeping...\n",
      "Done sleeping...\n",
      "Done sleeping...\n",
      "Done sleeping...\n",
      "Finished in 1.14 second(s)\n"
     ]
    }
   ],
   "source": [
    "import multiprocessing\n",
    "import time\n",
    "\n",
    "start = time.perf_counter()\n",
    "\n",
    "def do_something():\n",
    "    print('Sleeping for 1 second....')\n",
    "    time.sleep(1)\n",
    "    print('Done sleeping...')\n",
    "    \n",
    "    \n",
    "processes = []\n",
    "for _ in range(10):\n",
    "    p = multiprocessing.Process(target=do_something)\n",
    "    p.start()\n",
    "    processes.append(p)\n",
    "    \n",
    "for process in processes:\n",
    "    process.join() \n",
    "\n",
    "finish = time.perf_counter()\n",
    "\n",
    "print(f'Finished in {round(finish-start, 2)} second(s)')"
   ]
  },
  {
   "cell_type": "markdown",
   "id": "d63747b3",
   "metadata": {},
   "source": [
    "După adăugările aduse script-ului, putem observa că acuma acesta lucrează într-un mod corect. S-au creat 10 procese separate care au apelat aceeași funcție, fiecare funcție utilizând sintaxa 'time.sleep(1)' care îi spune programului să aștepte 1 secundă. Deși s-a apelat funcția de 10 ori (rularea programului într-un mod sincron ar dura 10 secunde) se poate observa că utilizând partea de 'multiprocessing' (crearea unui proces separat pentru fiecare apelare a funcției în parte) programul s-a terminat în aproximativ 1 secundă (puțin peste 1 secundă)"
   ]
  },
  {
   "cell_type": "markdown",
   "id": "44ffb538",
   "metadata": {},
   "source": [
    "Deși mașina nu are 10 core-uri (un core poate rula un proces), acesta are modalități de a schimba core-urile în momentul în care unul dintre ele nu este foarte ocupat. Chiar dacă am avut mai multe procese decât core-uri, script-ul tot a rulat în un pic peste 1 secundă doar."
   ]
  },
  {
   "cell_type": "markdown",
   "id": "44890ded",
   "metadata": {},
   "source": [
    "În acest moment se rulează o funcție care nu acceptă niciun argument. În continuare o să modificăm funcția 'do_something()' pentru ca aceasta să necesite un argument în momentul în care se apelează."
   ]
  },
  {
   "cell_type": "code",
   "execution_count": 14,
   "id": "33073262",
   "metadata": {},
   "outputs": [],
   "source": [
    "def do_something(seconds):\n",
    "    print(f'Sleeping for {seconds} second(s) ...')\n",
    "    time.sleep(seconds)\n",
    "    print('Done sleeping...')"
   ]
  },
  {
   "cell_type": "markdown",
   "id": "17ab45c0",
   "metadata": {},
   "source": [
    "După aceste modificări, acuma funcția 'do_something()' primește ca și argument un număr de secunde pe care să le aștepte programul. Pentru a putea specifica argumente pentru funcția ce rulează în cadrul unui proces, acestea trebuie trecute ca și o listă de elemente pentru un argument ce poartă denumirea de args (args = []). Acest lucru se întâmplă deoare în momentul în care specificăm care este target-ul pentru procesul creat, funcția respectivă nu este apelată, prin urmare nu se pot trece argumentele în cadrul apelării funcției, de aceea acestea sunt specificate în cadrul argumentului 'args'"
   ]
  },
  {
   "cell_type": "code",
   "execution_count": 15,
   "id": "83a563db",
   "metadata": {},
   "outputs": [],
   "source": [
    "p = multiprocessing.Process(target=do_something, args=[2])"
   ]
  },
  {
   "cell_type": "markdown",
   "id": "0980a667",
   "metadata": {},
   "source": [
    "Spre deosebire de thread-uri, pentru a putea specifica argumente utilizând multi-processing, argumentele trebuie să permită să fie serializate (serialized) utilizând conceptul de pickle. Serializând ceva utilizând metoda pickel, înseamnă că convertim obiecte Python într-un format care poate fi deconstruit și reconstruit în alt script de Python. "
   ]
  },
  {
   "cell_type": "code",
   "execution_count": 16,
   "id": "0a2f521c",
   "metadata": {},
   "outputs": [
    {
     "name": "stdout",
     "output_type": "stream",
     "text": [
      "Sleeping for 2 second(s) ...\n",
      "Sleeping for 2 second(s) ...\n",
      "Sleeping for 2 second(s) ...\n",
      "Sleeping for 2 second(s) ...\n",
      "Sleeping for 2 second(s) ...\n",
      "Sleeping for 2 second(s) ...\n",
      "Sleeping for 2 second(s) ...\n",
      "Sleeping for 2 second(s) ...\n",
      "Sleeping for 2 second(s) ...\n",
      "Sleeping for 2 second(s) ...\n",
      "Done sleeping...\n",
      "Done sleeping...\n",
      "Done sleeping...\n",
      "Done sleeping...\n",
      "Done sleeping...\n",
      "Done sleeping...\n",
      "Done sleeping...\n",
      "Done sleeping...\n",
      "Done sleeping...\n",
      "Done sleeping...\n",
      "Finished in 2.14 second(s)\n"
     ]
    }
   ],
   "source": [
    "import multiprocessing\n",
    "import time\n",
    "\n",
    "start = time.perf_counter()\n",
    "\n",
    "def do_something(seconds):\n",
    "    print(f'Sleeping for {seconds} second(s) ...')\n",
    "    time.sleep(seconds)\n",
    "    print('Done sleeping...')\n",
    "    \n",
    "    \n",
    "processes = []\n",
    "for _ in range(10):\n",
    "    p = multiprocessing.Process(target=do_something, args=[2])\n",
    "    p.start()\n",
    "    processes.append(p)\n",
    "    \n",
    "for process in processes:\n",
    "    process.join() \n",
    "\n",
    "finish = time.perf_counter()\n",
    "\n",
    "print(f'Finished in {round(finish-start, 2)} second(s)')"
   ]
  },
  {
   "cell_type": "markdown",
   "id": "e2520b0d",
   "metadata": {},
   "source": [
    "În outputul de mai sus se poate observa că argumentul ce a fost introdus pentru proces a fost trecut ca și argument pentru funcția 'do_something()', acesta așteptând acuma câte secunde au fost trecute ca și argument (2 secunde în cazul de față)"
   ]
  },
  {
   "cell_type": "markdown",
   "id": "83c9035c",
   "metadata": {},
   "source": [
    "După cum spuneam la început, o să ne uităm inițial peste metoda veche de a crea procese. Metoda descrisă mai sus este aceea metodă"
   ]
  },
  {
   "cell_type": "markdown",
   "id": "a4fe4e5f",
   "metadata": {},
   "source": [
    "Începând cu Python 3.2, s-a adăugat o noțiune care poartă denumire de 'process pool executor', iar în majoritatea cazurilor acesta o să fie o metodă mai rapidă și mai eficientă de a crea și rula procese și de asemenea permite schimarea rapidă de la 'multithreading' la 'multiprocessing'."
   ]
  },
  {
   "cell_type": "markdown",
   "id": "7aa56eff",
   "metadata": {},
   "source": [
    "Acest 'process pool executor' nu se găsește în modulul de 'multiprocessing', ci se găsește în modulul 'concurrent futures'"
   ]
  },
  {
   "cell_type": "code",
   "execution_count": 17,
   "id": "4d7778ae",
   "metadata": {},
   "outputs": [],
   "source": [
    "import concurrent.futures"
   ]
  },
  {
   "cell_type": "markdown",
   "id": "b8efc2c9",
   "metadata": {},
   "source": [
    "Când se utilizează acest 'process pool executor' este recomandat să se utilizeze împreună cu un context manager (with)"
   ]
  },
  {
   "cell_type": "code",
   "execution_count": 18,
   "id": "7883c772",
   "metadata": {},
   "outputs": [],
   "source": [
    "with concurrent.futures.ProcessPoolExecutor() as executor:\n",
    "    pass"
   ]
  },
  {
   "cell_type": "markdown",
   "id": "655db496",
   "metadata": {},
   "source": [
    "În cadrul 'process pool executor' există mai multe metode care se pot utiliza. Dacă dorim să executăm câte o funcție pe rând, se paote utiliza metoda '.submit()'. Metoda '.submit()' programează o metodă să fie executată și returnează un future object"
   ]
  },
  {
   "cell_type": "code",
   "execution_count": 19,
   "id": "14e296b3",
   "metadata": {},
   "outputs": [
    {
     "name": "stdout",
     "output_type": "stream",
     "text": [
      "Sleeping for 2 second(s) ...\n",
      "Done sleeping...\n",
      "Finished in 2.03 second(s)\n"
     ]
    }
   ],
   "source": [
    "import concurrent.futures\n",
    "import time\n",
    "\n",
    "start = time.perf_counter()\n",
    "\n",
    "def do_something(seconds):\n",
    "    print(f'Sleeping for {seconds} second(s) ...')\n",
    "    time.sleep(seconds)\n",
    "    print('Done sleeping...')\n",
    "    \n",
    "    \n",
    "with concurrent.futures.ProcessPoolExecutor() as executor:\n",
    "    p1 = executor.submit(do_something, 2)\n",
    "\n",
    "finish = time.perf_counter()\n",
    "\n",
    "print(f'Finished in {round(finish-start, 2)} second(s)')"
   ]
  },
  {
   "cell_type": "markdown",
   "id": "377be441",
   "metadata": {},
   "source": [
    "Din nou, metoda '.submit()' programează o funcție să fie executată și returnează un future object. Un future object, practic encapsulează execuția funcției și ne permite să o verificăm după ce a fost programată. Putem verifica dacă rulează, dacă s-a terminat de rulat și de asemenea putem verifica și rezultatul. Dacă verificăm rezultatul, acesta o să ne ofere partea de return a funcției. În momentul de față funcția nu returnează nimic, dar o să o modificăm ca acesta să returneze un string"
   ]
  },
  {
   "cell_type": "code",
   "execution_count": 20,
   "id": "64f51abe",
   "metadata": {},
   "outputs": [],
   "source": [
    "def do_something(seconds):\n",
    "    print(f'Sleeping for {seconds} second(s)...')\n",
    "    time.sleep(seconds)\n",
    "    return 'Done sleeping...'\n"
   ]
  },
  {
   "cell_type": "markdown",
   "id": "e7b6df68",
   "metadata": {},
   "source": [
    "Funcția 'do_something()' a fost modificată pentru a returna string-ul de 'Done sleeping' în loc de a îl printa doar. Acum, acest string poate fi extras utilizând metoda '.result()'"
   ]
  },
  {
   "cell_type": "code",
   "execution_count": 21,
   "id": "8d86b6ab",
   "metadata": {},
   "outputs": [
    {
     "name": "stdout",
     "output_type": "stream",
     "text": [
      "Sleeping for 2 second(s)...\n",
      "Done sleeping...\n"
     ]
    }
   ],
   "source": [
    "with concurrent.futures.ProcessPoolExecutor() as executor:\n",
    "    p1 = executor.submit(do_something, 2)\n",
    "    print(p1.result())\n",
    "    "
   ]
  },
  {
   "cell_type": "markdown",
   "id": "8b8114a7",
   "metadata": {},
   "source": [
    "În momentul în care se rulează metoda '.result()' o să aștepte până în momentul în care funcția este rulată."
   ]
  },
  {
   "cell_type": "code",
   "execution_count": 22,
   "id": "c51f03f3",
   "metadata": {},
   "outputs": [
    {
     "name": "stdout",
     "output_type": "stream",
     "text": [
      "Sleeping for 2 second(s)...\n",
      "Done sleeping...\n",
      "Finished in 2.04 second(s)\n"
     ]
    }
   ],
   "source": [
    "import concurrent.futures\n",
    "import time\n",
    "\n",
    "start = time.perf_counter()\n",
    "\n",
    "def do_something(seconds):\n",
    "    print(f'Sleeping for {seconds} second(s)...')\n",
    "    time.sleep(seconds)\n",
    "    return 'Done sleeping...'\n",
    "    \n",
    "with concurrent.futures.ProcessPoolExecutor() as executor:\n",
    "    p1 = executor.submit(do_something, 2)\n",
    "    print(p1.result())\n",
    "    \n",
    "finish = time.perf_counter()\n",
    "\n",
    "print(f'Finished in {round(finish-start, 2)} second(s)')\n"
   ]
  },
  {
   "cell_type": "markdown",
   "id": "d3d2f96d",
   "metadata": {},
   "source": [
    " Dacă dorim să rulăm de mai multe ori, atunci putem apela metoda '.submit()' de mai multe ori"
   ]
  },
  {
   "cell_type": "code",
   "execution_count": 23,
   "id": "352def32",
   "metadata": {},
   "outputs": [
    {
     "name": "stdout",
     "output_type": "stream",
     "text": [
      "Sleeping for 2 second(s)...\n",
      "Sleeping for 2 second(s)...\n",
      "Done sleeping...\n",
      "Done sleeping...\n",
      "Finished in 2.05 second(s)\n"
     ]
    }
   ],
   "source": [
    "import concurrent.futures\n",
    "import time\n",
    "\n",
    "start = time.perf_counter()\n",
    "\n",
    "def do_something(seconds):\n",
    "    print(f'Sleeping for {seconds} second(s)...')\n",
    "    time.sleep(seconds)\n",
    "    return 'Done sleeping...'\n",
    "    \n",
    "with concurrent.futures.ProcessPoolExecutor() as executor:\n",
    "    p1 = executor.submit(do_something, 2)\n",
    "    p2 = executor.submit(do_something, 2)\n",
    "    \n",
    "    print(p1.result())\n",
    "    print(p2.result())\n",
    "    \n",
    "finish = time.perf_counter()\n",
    "\n",
    "print(f'Finished in {round(finish-start, 2)} second(s)')\n"
   ]
  },
  {
   "cell_type": "markdown",
   "id": "632a1950",
   "metadata": {},
   "source": [
    "Dacă se dorește să ruleze funcția de mai multe ori (de 10 ori de exemplu, ca și în cazul de sus), atunci este recomandat din nou să se utilizeze o buclă for. Am văzut mai sus cum se poate utiliza o buclă for pentru a rula o funcție utilizând procese de 10 ori, iar de aceea în acest moment o să utilizăm list comprehension pentru a apela metoda submit de 10 ori"
   ]
  },
  {
   "cell_type": "code",
   "execution_count": 24,
   "id": "a093c2e5",
   "metadata": {},
   "outputs": [
    {
     "name": "stdout",
     "output_type": "stream",
     "text": [
      "Sleeping for 1.5 second(s)...\n",
      "Sleeping for 1.5 second(s)...\n",
      "Sleeping for 1.5 second(s)...Sleeping for 1.5 second(s)...Sleeping for 1.5 second(s)...Sleeping for 1.5 second(s)...Sleeping for 1.5 second(s)...Sleeping for 1.5 second(s)...\n",
      "\n",
      "\n",
      "\n",
      "\n",
      "\n",
      "Sleeping for 1.5 second(s)...\n",
      "Sleeping for 1.5 second(s)...\n"
     ]
    }
   ],
   "source": [
    "with concurrent.futures.ProcessPoolExecutor() as executor:\n",
    "    result = [executor.submit(do_something, 1.5) for _ in range(10)] "
   ]
  },
  {
   "cell_type": "markdown",
   "id": "c3d0304f",
   "metadata": {},
   "source": [
    "Pentru a extrage rezultatul pentru fiecare funcție putem utiliza altă metodă, aceasta fiind '.as_completed()'. Funcția respectivă returnează un iterator pe care îl putem parcurge și care o să returneze (yield) rezultatul funcție pe măsură ce funcția s-a terminat de rulat."
   ]
  },
  {
   "cell_type": "code",
   "execution_count": 25,
   "id": "ccf7c57b",
   "metadata": {},
   "outputs": [
    {
     "name": "stdout",
     "output_type": "stream",
     "text": [
      "Sleeping for 1.5 second(s)...\n",
      "Sleeping for 1.5 second(s)...\n",
      "Sleeping for 1.5 second(s)...\n",
      "Sleeping for 1.5 second(s)...Sleeping for 1.5 second(s)...Sleeping for 1.5 second(s)...Sleeping for 1.5 second(s)...Sleeping for 1.5 second(s)...\n",
      "\n",
      "\n",
      "\n",
      "\n",
      "Sleeping for 1.5 second(s)...\n",
      "Sleeping for 1.5 second(s)...\n"
     ]
    }
   ],
   "source": [
    "with concurrent.futures.ProcessPoolExecutor() as executor:\n",
    "    result = [executor.submit(do_something, 1.5) for _ in range(10)] \n",
    "\n"
   ]
  },
  {
   "cell_type": "code",
   "execution_count": 26,
   "id": "d13dfe72",
   "metadata": {},
   "outputs": [
    {
     "name": "stdout",
     "output_type": "stream",
     "text": [
      "Sleeping for 1.5 second(s)...\n",
      "Sleeping for 1.5 second(s)...\n",
      "Sleeping for 1.5 second(s)...\n",
      "Sleeping for 1.5 second(s)...Sleeping for 1.5 second(s)...Sleeping for 1.5 second(s)...Sleeping for 1.5 second(s)...Sleeping for 1.5 second(s)...\n",
      "\n",
      "\n",
      "\n",
      "\n",
      "Sleeping for 1.5 second(s)...\n",
      "Sleeping for 1.5 second(s)...\n",
      "Done sleeping...\n",
      "Done sleeping...\n",
      "Done sleeping...\n",
      "Done sleeping...\n",
      "Done sleeping...\n",
      "Done sleeping...\n",
      "Done sleeping...\n",
      "Done sleeping...\n",
      "Done sleeping...\n",
      "Done sleeping...\n",
      "Finished in 3.07 second(s)\n"
     ]
    }
   ],
   "source": [
    "import concurrent.futures\n",
    "import time\n",
    "\n",
    "start = time.perf_counter()\n",
    "\n",
    "def do_something(seconds):\n",
    "    print(f'Sleeping for {seconds} second(s)...')\n",
    "    time.sleep(seconds)\n",
    "    return 'Done sleeping...'\n",
    "    \n",
    "with concurrent.futures.ProcessPoolExecutor() as executor:\n",
    "    results = [executor.submit(do_something, 1.5) for _ in range(10)] \n",
    "    \n",
    "    for f in concurrent.futures.as_completed(results):\n",
    "        print(f.result())\n",
    "    \n",
    "finish = time.perf_counter()\n",
    "\n",
    "print(f'Finished in {round(finish-start, 2)} second(s)')"
   ]
  },
  {
   "cell_type": "markdown",
   "id": "4a095bba",
   "metadata": {},
   "source": [
    "Se poate observa că programul a rulat funcția respectivă de 10 ori, însă tot programul a rulat în 3 secunde. Aceasta se întâmplă deoarece 'ProcessPoolExecutor' a luat o decizie bazată pe hardware-ul ce îl avem să nu permită să utilizeze 10 procese. "
   ]
  },
  {
   "cell_type": "markdown",
   "id": "9c944e4e",
   "metadata": {},
   "source": [
    "Pentru a dovedi că metoda '.as_completed()' returnează valorile în momentul în care funcția s-a rulat, o să utilizăm un set de intervale de secunde diferite în momentul apelării funcției. O să creem o listă de secunde (o listă ce o să conțină valori care reprezintă numărul de secunde pe care să îl aștepte funcția 'do_something()')"
   ]
  },
  {
   "cell_type": "code",
   "execution_count": 27,
   "id": "fdbc3ef9",
   "metadata": {},
   "outputs": [
    {
     "name": "stdout",
     "output_type": "stream",
     "text": [
      "Sleeping for 5 second(s)...\n",
      "Sleeping for 4 second(s)...\n",
      "Sleeping for 3 second(s)...\n",
      "Sleeping for 2 second(s)...Sleeping for 1 second(s)...\n",
      "\n",
      "Done sleeping for 1 second(s)\n",
      "Done sleeping for 2 second(s)\n",
      "Done sleeping for 3 second(s)\n",
      "Done sleeping for 4 second(s)\n",
      "Done sleeping for 5 second(s)\n",
      "Finished in 5.04 second(s)\n"
     ]
    }
   ],
   "source": [
    "import concurrent.futures\n",
    "import time\n",
    "\n",
    "start = time.perf_counter()\n",
    "\n",
    "def do_something(seconds):\n",
    "    print(f'Sleeping for {seconds} second(s)...')\n",
    "    time.sleep(seconds)\n",
    "    return f'Done sleeping for {seconds} second(s)'\n",
    "    \n",
    "with concurrent.futures.ProcessPoolExecutor() as executor:\n",
    "    secs = [5, 4, 3, 2, 1]\n",
    "    results = [executor.submit(do_something, sec) for sec in secs] \n",
    "    \n",
    "    for f in concurrent.futures.as_completed(results):\n",
    "        print(f.result())\n",
    "    \n",
    "finish = time.perf_counter()\n",
    "\n",
    "print(f'Finished in {round(finish-start, 2)} second(s)')"
   ]
  },
  {
   "cell_type": "markdown",
   "id": "c2cac780",
   "metadata": {},
   "source": [
    "După cum se poate vedea în output, prima dată s-a rulat funcția 'do_something()' cu argumentul de 5 secunde, apoi de 4, 3, 2 și la final 1 secundă, însă prima dată s-a terminat de rulat funcția în care s-a oferit ca și argument 1 secundă, iar rezultatul acesta este returnat și afișat primul."
   ]
  },
  {
   "cell_type": "markdown",
   "id": "90ac7e32",
   "metadata": {},
   "source": [
    "În cadrul codului de mai sus, cu ajutorul list comprehension reușim să apelăm o funcție cu argumente diferite în momentul în care parcurgem lista respectivă (cea de argument). Python ne oferă o metodă specifică care face acest lucru, care mapează o funcție la un set de argumente (acestă funcție poartă denumirea de 'map()'). Această funcție există și în cadrul unui 'ProcessPoolExecutor' și se poate apela"
   ]
  },
  {
   "cell_type": "markdown",
   "id": "c9f7e273",
   "metadata": {},
   "source": [
    "Diferența dintre '.submit()' și '.map()' este că pentru '.map()', rezultatul funcțiilor este returnat în funcție de ordinea în care s-au apelat funcțiile respective, nu se returnează în momentul în care se termină de rulat funcția"
   ]
  },
  {
   "cell_type": "code",
   "execution_count": 28,
   "id": "31ffe1c3",
   "metadata": {},
   "outputs": [
    {
     "name": "stdout",
     "output_type": "stream",
     "text": [
      "Sleeping for 5 second(s)...\n",
      "Sleeping for 4 second(s)...\n",
      "Sleeping for 3 second(s)...\n",
      "Sleeping for 2 second(s)...\n",
      "Sleeping for 1 second(s)...\n",
      "Done sleeping for 5 second(s)\n",
      "Done sleeping for 4 second(s)\n",
      "Done sleeping for 3 second(s)\n",
      "Done sleeping for 2 second(s)\n",
      "Done sleeping for 1 second(s)\n",
      "Finished in 5.05 second(s)\n"
     ]
    }
   ],
   "source": [
    "import concurrent.futures\n",
    "import time\n",
    "\n",
    "start = time.perf_counter()\n",
    "\n",
    "def do_something(seconds):\n",
    "    print(f'Sleeping for {seconds} second(s)...')\n",
    "    time.sleep(seconds)\n",
    "    return f'Done sleeping for {seconds} second(s)'\n",
    "    \n",
    "with concurrent.futures.ProcessPoolExecutor() as executor:\n",
    "    secs = [5, 4, 3, 2, 1]\n",
    "    results = executor.map(do_something, secs) \n",
    "    \n",
    "    for result in results:\n",
    "        print(result)\n",
    "    \n",
    "finish = time.perf_counter()\n",
    "\n",
    "print(f'Finished in {round(finish-start, 2)} second(s)')"
   ]
  },
  {
   "cell_type": "markdown",
   "id": "1cb0e4c0",
   "metadata": {},
   "source": [
    "Când am utilizat metoda '.submit()', acesta returna un future object, iar metoda '.map()' returnează rezultatul, de aceea putem să parcurgem lista de rezultate și să printăm fiecare rezultat în parte\n",
    "\n",
    "    for result in results:\n",
    "        \n",
    "        print(result)"
   ]
  },
  {
   "cell_type": "markdown",
   "id": "74c6aa8f",
   "metadata": {},
   "source": [
    " Acum că ne-am uitat peste un exemplu în care am utilizat 'time.sleep()' pentru a vedea cum anume funcționează partea de 'multiprocessing', în continuare o să ne utilzăm de un exemplu concludent în care s-ar putea utiliza acestă parte pentru a ne îmbunătăți viteza în care rulează script-ul"
   ]
  },
  {
   "cell_type": "markdown",
   "id": "c5e9eab8",
   "metadata": {},
   "source": [
    "În codul de mai jos este un script care procesează un set de imagini de mare rezoluție din folderul curent. Cum anume funcționează acest script?\n",
    "\n",
    "Acesta are o listă de nume de imagini în care fiecare dintre acestea reprezintă imaginea pe care dorim să o procesăm. Fiecare imagine se procesează în parte în acest fel\n",
    "\n",
    "    1. Se deschide imaginea respectivă\n",
    "    \n",
    "    2. Se aplică un filtru pentru imaginea respectivă\n",
    "    \n",
    "    3. Se face resize la imagine utilizând ca și argument variabila denumită size\n",
    "    \n",
    "    4. Se salvează imaginea nou procesată într-un folder separat din folderul curent (processed este folderul în care se salvează)\n",
    "    \n",
    "Acest procedeu este urmat pentru fiecare imagine în parte"
   ]
  },
  {
   "cell_type": "code",
   "execution_count": 31,
   "id": "74abe19b",
   "metadata": {},
   "outputs": [
    {
     "name": "stdout",
     "output_type": "stream",
     "text": [
      "photo-1516117172878-fd2c41f4a759.jpg was processed...\n",
      "photo-1532009324734-20a7a5813719.jpg was processed...\n",
      "photo-1524429656589-6633a470097c.jpg was processed...\n",
      "photo-1530224264768-7ff8c1789d79.jpg was processed...\n",
      "photo-1564135624576-c5c88640f235.jpg was processed...\n",
      "photo-1541698444083-023c97d3f4b6.jpg was processed...\n",
      "photo-1522364723953-452d3431c267.jpg was processed...\n",
      "photo-1513938709626-033611b8cc03.jpg was processed...\n",
      "photo-1507143550189-fed454f93097.jpg was processed...\n",
      "photo-1493976040374-85c8e12f0c0e.jpg was processed...\n",
      "photo-1504198453319-5ce911bafcde.jpg was processed...\n",
      "photo-1530122037265-a5f1f91d3b99.jpg was processed...\n",
      "photo-1516972810927-80185027ca84.jpg was processed...\n",
      "photo-1550439062-609e1531270e.jpg was processed...\n",
      "photo-1549692520-acc6669e2f0c.jpg was processed...\n",
      "Finished in 53.756795494999096 seconds\n"
     ]
    }
   ],
   "source": [
    "import time\n",
    "from PIL import Image, ImageFilter\n",
    "\n",
    "img_names = [\n",
    "    'photo-1516117172878-fd2c41f4a759.jpg',\n",
    "    'photo-1532009324734-20a7a5813719.jpg',\n",
    "    'photo-1524429656589-6633a470097c.jpg',\n",
    "    'photo-1530224264768-7ff8c1789d79.jpg',\n",
    "    'photo-1564135624576-c5c88640f235.jpg',\n",
    "    'photo-1541698444083-023c97d3f4b6.jpg',\n",
    "    'photo-1522364723953-452d3431c267.jpg',\n",
    "    'photo-1513938709626-033611b8cc03.jpg',\n",
    "    'photo-1507143550189-fed454f93097.jpg',\n",
    "    'photo-1493976040374-85c8e12f0c0e.jpg',\n",
    "    'photo-1504198453319-5ce911bafcde.jpg',\n",
    "    'photo-1530122037265-a5f1f91d3b99.jpg',\n",
    "    'photo-1516972810927-80185027ca84.jpg',\n",
    "    'photo-1550439062-609e1531270e.jpg',\n",
    "    'photo-1549692520-acc6669e2f0c.jpg'\n",
    "]\n",
    "\n",
    "t1 = time.perf_counter()\n",
    "\n",
    "size = (1200, 1200)\n",
    "\n",
    "\n",
    "for img_name in img_names:\n",
    "    img = Image.open(img_name)\n",
    "\n",
    "    img = img.filter(ImageFilter.GaussianBlur(15))\n",
    "\n",
    "    img.thumbnail(size)\n",
    "    img.save(f'processed/{img_name}')\n",
    "    print(f'{img_name} was processed...')\n",
    "\n",
    "t2 = time.perf_counter()\n",
    "\n",
    "print(f'Finished in {t2-t1} seconds')"
   ]
  },
  {
   "cell_type": "markdown",
   "id": "9a971f29",
   "metadata": {},
   "source": [
    "Pentru un numă de 15 imagini care trebuie procesate, scriptul se pare că are neovoie de peste 50 de secunde pentru a procesa aceste imagini. Procesarea imaginilor reprezintă un CPU bound, deoarece se utilizează memoria CPU pentru a realiza această procesare. Acesta este un caz în care se poate utiliza partea de 'multiprocessing'. Chiar dacă nu toate operațiile din cadrul acestui script nu sunt de tipul CPU bound (spre exemplu, partea de deschidere a imaginii reprezintă un I/O bound), conceptul de 'multiprocessing' poate fi utilizat și pentru partea de I/O bounds fără probleme."
   ]
  },
  {
   "cell_type": "markdown",
   "id": "ddfa282d",
   "metadata": {},
   "source": [
    "După cum se spunea, acest script ia o anumită imagine și o procesează. Pentru a putea modifica acest cod ca să utilizeze 'multiprocessing', trebuie să creem o funcție care procesează această imagine. Funcția respectivă trebuie după mapată pentru fiecare url din lista care conține aceste nume de imagini ce trebuie procesate. Acest procedeu este asemănător cu maparea funcției 'do_something()' pentru valori diferite (funcția care îi spune programului să aștepte un număr de secunde)."
   ]
  },
  {
   "cell_type": "markdown",
   "id": "9af492e9",
   "metadata": {},
   "source": [
    "Pentru început o să creem funcția care se ocupă de partea de procesare. Pentru a crea funcția care procesează o imagine, tot ce trebuie făcut este să modificăm lina de cod 'for img_name in img_names:' cu 'def process_image(img_name):'"
   ]
  },
  {
   "cell_type": "code",
   "execution_count": null,
   "id": "e6b35409",
   "metadata": {},
   "outputs": [],
   "source": [
    "def process_image(img_name):\n",
    "    img = Image.open(img_name)\n",
    "\n",
    "    img = img.filter(ImageFilter.GaussianBlur(15))\n",
    "\n",
    "    img.thumbnail(size)\n",
    "    img.save(f'processed/{img_name}')\n",
    "    print(f'{img_name} was processed...')"
   ]
  },
  {
   "cell_type": "markdown",
   "id": "110cd180",
   "metadata": {},
   "source": [
    "După ce s-a creat funcția respectivă, se importă modulul 'concurrent.futures' de unde se creează un 'ProcessPoolExector', după care utilizând metoda '.map()' din cadrul executorului se mapează funcția pentru fiecare imagine"
   ]
  },
  {
   "cell_type": "code",
   "execution_count": 32,
   "id": "8ebef4f4",
   "metadata": {},
   "outputs": [
    {
     "name": "stdout",
     "output_type": "stream",
     "text": [
      "photo-1516117172878-fd2c41f4a759.jpg was processed...\n",
      "photo-1507143550189-fed454f93097.jpg was processed...\n",
      "photo-1524429656589-6633a470097c.jpg was processed...\n",
      "photo-1522364723953-452d3431c267.jpg was processed...\n",
      "photo-1530224264768-7ff8c1789d79.jpg was processed...\n",
      "photo-1564135624576-c5c88640f235.jpg was processed...\n",
      "photo-1532009324734-20a7a5813719.jpg was processed...\n",
      "photo-1513938709626-033611b8cc03.jpg was processed...\n",
      "photo-1541698444083-023c97d3f4b6.jpg was processed...\n",
      "photo-1516972810927-80185027ca84.jpg was processed...\n",
      "photo-1530122037265-a5f1f91d3b99.jpg was processed...\n",
      "photo-1549692520-acc6669e2f0c.jpg was processed...\n",
      "photo-1550439062-609e1531270e.jpg was processed...\n",
      "photo-1504198453319-5ce911bafcde.jpg was processed...\n",
      "photo-1493976040374-85c8e12f0c0e.jpg was processed...\n",
      "Finished in 15.5788872109988 seconds\n"
     ]
    }
   ],
   "source": [
    "import time\n",
    "import concurrent.futures\n",
    "from PIL import Image, ImageFilter\n",
    "\n",
    "img_names = [\n",
    "    'photo-1516117172878-fd2c41f4a759.jpg',\n",
    "    'photo-1532009324734-20a7a5813719.jpg',\n",
    "    'photo-1524429656589-6633a470097c.jpg',\n",
    "    'photo-1530224264768-7ff8c1789d79.jpg',\n",
    "    'photo-1564135624576-c5c88640f235.jpg',\n",
    "    'photo-1541698444083-023c97d3f4b6.jpg',\n",
    "    'photo-1522364723953-452d3431c267.jpg',\n",
    "    'photo-1513938709626-033611b8cc03.jpg',\n",
    "    'photo-1507143550189-fed454f93097.jpg',\n",
    "    'photo-1493976040374-85c8e12f0c0e.jpg',\n",
    "    'photo-1504198453319-5ce911bafcde.jpg',\n",
    "    'photo-1530122037265-a5f1f91d3b99.jpg',\n",
    "    'photo-1516972810927-80185027ca84.jpg',\n",
    "    'photo-1550439062-609e1531270e.jpg',\n",
    "    'photo-1549692520-acc6669e2f0c.jpg'\n",
    "]\n",
    "\n",
    "t1 = time.perf_counter()\n",
    "\n",
    "size = (1200, 1200)\n",
    "\n",
    "\n",
    "def process_image(img_name):\n",
    "    img = Image.open(img_name)\n",
    "\n",
    "    img = img.filter(ImageFilter.GaussianBlur(15))\n",
    "\n",
    "    img.thumbnail(size)\n",
    "    img.save(f'processed/{img_name}')\n",
    "    print(f'{img_name} was processed...')\n",
    "    \n",
    "with concurrent.futures.ProcessPoolExecutor() as executor:\n",
    "    executor.map(process_image, img_names)\n",
    "\n",
    "t2 = time.perf_counter()\n",
    "\n",
    "print(f'Finished in {t2-t1} seconds')"
   ]
  },
  {
   "cell_type": "markdown",
   "id": "5f31cf3c",
   "metadata": {},
   "source": [
    "În acest moment, codul rulează în paralel, imaginile se procesează mai rapid (se poate vedea îmbunătățirea, de la 53 de secunde cât a luat să proceseze fiecare imagine în parte, până la 15 secunde cât a durat scriptul să proceseze toate imaginile utilizând conceptul de 'multiprocessing')   "
   ]
  },
  {
   "cell_type": "code",
   "execution_count": null,
   "id": "9fe4aa67",
   "metadata": {},
   "outputs": [],
   "source": []
  }
 ],
 "metadata": {
  "kernelspec": {
   "display_name": "Python 3 (ipykernel)",
   "language": "python",
   "name": "python3"
  },
  "language_info": {
   "codemirror_mode": {
    "name": "ipython",
    "version": 3
   },
   "file_extension": ".py",
   "mimetype": "text/x-python",
   "name": "python",
   "nbconvert_exporter": "python",
   "pygments_lexer": "ipython3",
   "version": "3.9.7"
  }
 },
 "nbformat": 4,
 "nbformat_minor": 5
}
